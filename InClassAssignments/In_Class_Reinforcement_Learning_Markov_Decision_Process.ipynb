{
  "nbformat": 4,
  "nbformat_minor": 0,
  "metadata": {
    "colab": {
      "provenance": []
    },
    "kernelspec": {
      "name": "python3",
      "display_name": "Python 3"
    },
    "language_info": {
      "name": "python"
    }
  },
  "cells": [
    {
      "cell_type": "markdown",
      "source": [
        "## Reinforcement Learning\n",
        "\n",
        "<img align=\"left\" src=\"https://drive.google.com/uc?export=view&id=1sXQGiTLfPJi0S0rwPjSQazChNbAp38Ek\"     style=\" width:1000px; padding: 10px; \" >\n",
        "\n",
        "- Reinforcement learning is a subfield of machine learning that focuses on developing algorithms that enable an agent to learn how to make decisions by interacting with an environment. The agent receives feedback in the form of rewards or penalties, and its goal is to learn how to take actions that maximize its cumulative rewards over time.\n",
        "\n",
        "\n",
        "- In reinforcement learning, the agent interacts with the environment in discrete time steps. At each time step, the agent observes the current state of the environment and selects an action to take based on a policy, which is a function that maps states to actions. The environment then transitions to a new state and provides the agent with a reward signal, which is a scalar value that indicates how well the agent is doing at the current time step. The agent then updates its policy based on the observed state, action, and reward, and continues to interact with the environment.\n",
        "\n",
        "\n",
        "- The goal of the agent is to learn a policy that maximizes its expected cumulative reward over time. This requires balancing the desire to maximize immediate rewards with the need to explore new actions that may lead to higher long-term rewards. Reinforcement learning algorithms use various techniques to balance exploration and exploitation and learn an optimal policy, such as Q-learning, policy gradient methods, and actor-critic methods.\n",
        "\n",
        "\n",
        "- Reinforcement learning has many practical applications, including robotics, game playing, recommendation systems, and autonomous vehicles."
      ],
      "metadata": {
        "id": "q7TUMevesxDP"
      }
    },
    {
      "cell_type": "markdown",
      "source": [
        "- Agent: Learns from trial & error\n",
        "- Environment: Where the agents moves\n",
        "- Action: All possible steps agent can take\n",
        "- State: Current condition in the environment\n",
        "- Reward: An apraisal of the last action\n",
        "- Policy: Agent uses to determine the next action based on the current state\n",
        "- Value: Expected long term return, as opposed to short term reward\n",
        "- Action-value: Similar to value, but it takes an extra parameter, the current action"
      ],
      "metadata": {
        "id": "lAbBeSCltP4o"
      }
    },
    {
      "cell_type": "markdown",
      "source": [
        "## Markov's Decision Process\n",
        "\n",
        "<img align=\"left\" src=\"https://drive.google.com/uc?export=view&id=1gLgtvw0PN5t-PMbcDqrz7goftBWU08KY\"     style=\" width:1000px; padding: 10px; \" >\n",
        "\n",
        "- The mathematical approach for mapping a solution in reinforcement learning is called MDP\n",
        "- Following parameters are used in attaining a solution in MDP:\n",
        "    - Set of actions, A\n",
        "    - Set of states, S\n",
        "    - Reward, R\n",
        "    - Policy, pi\n",
        "    - Value, V\n",
        " \n",
        "- Goal: Find the shortest path between A & D with minimum possible cost\n",
        "    - Set of states are denoted by nodes\n",
        "    - Action are denoted by edges\n",
        "    - Reward is the cost of an edge\n",
        "    - Policy is the path take to reach the destination\n"
      ],
      "metadata": {
        "id": "rmMPxZantef1"
      }
    },
    {
      "cell_type": "markdown",
      "source": [
        "## Q-Learning\n",
        "\n",
        "<img align=\"right\" src=\"https://drive.google.com/uc?export=view&id=1xEyQSD5XBtECR6arVjporNzX_OPM7M06\"     style=\" width:900px; padding: 10px; \" >\n",
        "<img align=\"right\" src=\"https://drive.google.com/uc?export=view&id=16kukmANov90PTpKJUMwwMc4o3WcfKgFs\"     style=\" width:900px; padding: 10px; \" >\n",
        "\n",
        "- Q(state, action) = R(state, action) + Gamma * Max[Q(next state, all actions]\n",
        "- The Gamma parameter has a range of 0 to 1 (0 <= Gamma < 1)\n",
        "  - if Gamma is set closer to zero, agent will tend to consider only immediate rewards - exploitation\n",
        "  - if Gamma is set closer to one, agent will consider higher rewards - exploration"
      ],
      "metadata": {
        "id": "BDKScpVPtigm"
      }
    },
    {
      "cell_type": "markdown",
      "source": [
        "## Q-Learning Example\n",
        "- Set gamma = 0.8\n",
        "- Initialize Q Matrix as zero\n",
        "- From node 1, agent can either go to node 3 or 5; let's select 5\n",
        "- From node 5, calculate maximum Q value for this next state based on potential actions\n",
        "- Q(state, action) = R(state, action) + gamma * max[Q(next state, all actions)]\n",
        "\n",
        "<img align=\"left\" src=\"https://drive.google.com/uc?export=view&id=1zXSq-VIviv2qAbwI5HMef3nrT7krINFJ\"     style=\" width:1000px; padding: 10px; \" >\n"
      ],
      "metadata": {
        "id": "l4mahGUXtlW0"
      }
    },
    {
      "cell_type": "markdown",
      "source": [
        "### R Matrix: State diagram and instant reward matrix\n",
        "<img align=\"left\" src=\"https://drive.google.com/uc?export=view&id=1xEyQSD5XBtECR6arVjporNzX_OPM7M06\"     style=\" width:1000px; padding: 10px; \" >"
      ],
      "metadata": {
        "id": "FHRrapdotuUy"
      }
    },
    {
      "cell_type": "code",
      "source": [
        "import numpy as np\n",
        "\n",
        "R = np.matrix([\n",
        "    [-1, -1, -1, -1, 0, -1],\n",
        "    [-1, -1, -1, 0, -1, 100],\n",
        "    [-1, -1, -1, 0, -1, -1],\n",
        "    [-1, 0, 0, -1, 0, -1],\n",
        "    [ 0, -1, -1, 0, -1, 100],\n",
        "    [-1, 0, -1, -1, 0, 100]\n",
        "])"
      ],
      "metadata": {
        "id": "a_tjf6J4tvDL"
      },
      "execution_count": 1,
      "outputs": []
    },
    {
      "cell_type": "code",
      "source": [
        "Q = np.matrix(np.zeros([6,6]))\n",
        "gamma = 0.8\n",
        "initial_state = 1\n",
        "Q"
      ],
      "metadata": {
        "id": "i1Qt2J0gxMEs",
        "colab": {
          "base_uri": "https://localhost:8080/"
        },
        "outputId": "d35193fe-14ae-47b3-c283-39cbfc7140cf"
      },
      "execution_count": 2,
      "outputs": [
        {
          "output_type": "execute_result",
          "data": {
            "text/plain": [
              "matrix([[0., 0., 0., 0., 0., 0.],\n",
              "        [0., 0., 0., 0., 0., 0.],\n",
              "        [0., 0., 0., 0., 0., 0.],\n",
              "        [0., 0., 0., 0., 0., 0.],\n",
              "        [0., 0., 0., 0., 0., 0.],\n",
              "        [0., 0., 0., 0., 0., 0.]])"
            ]
          },
          "metadata": {},
          "execution_count": 2
        }
      ]
    },
    {
      "cell_type": "code",
      "source": [
        "def available_actions(state):\n",
        "    current_state_row = R[state,]\n",
        "    av_act = np.where(current_state_row >= 0)[1]\n",
        "    return av_act"
      ],
      "metadata": {
        "id": "_QI5jaqkxWiA"
      },
      "execution_count": 3,
      "outputs": []
    },
    {
      "cell_type": "code",
      "source": [
        "available_act = available_actions(initial_state)\n",
        "available_act"
      ],
      "metadata": {
        "colab": {
          "base_uri": "https://localhost:8080/"
        },
        "id": "Vay1g_K3JJN0",
        "outputId": "b985892e-dbcb-427e-d6f8-3ec6ac915412"
      },
      "execution_count": 4,
      "outputs": [
        {
          "output_type": "execute_result",
          "data": {
            "text/plain": [
              "array([3, 5])"
            ]
          },
          "metadata": {},
          "execution_count": 4
        }
      ]
    },
    {
      "cell_type": "code",
      "source": [
        "def sample_next_action(available_actions_range):\n",
        "    next_action = int(np.random.choice(available_actions_range, 1))\n",
        "    return next_action\n",
        "\n",
        "action = sample_next_action(available_act)\n",
        "action"
      ],
      "metadata": {
        "id": "HTda765Cxah5",
        "colab": {
          "base_uri": "https://localhost:8080/"
        },
        "outputId": "97a6455a-b51e-499b-ff31-22ee29828af4"
      },
      "execution_count": 9,
      "outputs": [
        {
          "output_type": "execute_result",
          "data": {
            "text/plain": [
              "3"
            ]
          },
          "metadata": {},
          "execution_count": 9
        }
      ]
    },
    {
      "cell_type": "code",
      "source": [
        "def update(current_state, action, gamma):\n",
        "    max_index = np.where(Q[action,] == np.max(Q[action,]))[1]\n",
        "    \n",
        "    if max_index.shape[0] > 1:\n",
        "        max_index = int(np.random.choice(max_index, size = 1))\n",
        "    else:\n",
        "        max_index = int(max_index)\n",
        "    \n",
        "    max_value = Q[action, max_index]\n",
        "    \n",
        "    Q[current_state, action] = R[current_state, action] + gamma * max_value"
      ],
      "metadata": {
        "id": "-t957wj7zmEG"
      },
      "execution_count": 7,
      "outputs": []
    },
    {
      "cell_type": "code",
      "source": [
        "for i in range(10000):\n",
        "    current_state = np.random.randint(0, int(Q.shape[0]))\n",
        "    available_act = available_actions(current_state)\n",
        "    action = sample_next_action(available_act)\n",
        "    update(current_state, action, gamma)\n",
        "\n",
        "print('Trained Q Matrix')\n",
        "print(Q)\n",
        "print(\"\\n\\n\")\n",
        "\n",
        "print(Q/np.max(Q)*100) # normalized"
      ],
      "metadata": {
        "colab": {
          "base_uri": "https://localhost:8080/"
        },
        "id": "DT0pJjplzoiT",
        "outputId": "9cc1c5c1-b383-44d5-bbc1-0c2f3396f542"
      },
      "execution_count": null,
      "outputs": [
        {
          "output_type": "stream",
          "name": "stdout",
          "text": [
            "Trained Q Matrix\n",
            "[[  0.   0.   0.   0. 400.   0.]\n",
            " [  0.   0.   0. 320.   0. 500.]\n",
            " [  0.   0.   0. 320.   0.   0.]\n",
            " [  0. 400. 256.   0. 400.   0.]\n",
            " [320.   0.   0. 320.   0. 500.]\n",
            " [  0. 400.   0.   0. 400. 500.]]\n",
            "\n",
            "\n",
            "\n",
            "[[  0.    0.    0.    0.   80.    0. ]\n",
            " [  0.    0.    0.   64.    0.  100. ]\n",
            " [  0.    0.    0.   64.    0.    0. ]\n",
            " [  0.   80.   51.2   0.   80.    0. ]\n",
            " [ 64.    0.    0.   64.    0.  100. ]\n",
            " [  0.   80.    0.    0.   80.  100. ]]\n"
          ]
        }
      ]
    },
    {
      "cell_type": "code",
      "source": [
        "R"
      ],
      "metadata": {
        "colab": {
          "base_uri": "https://localhost:8080/"
        },
        "id": "u3FXjzr6zrGP",
        "outputId": "9125604f-e8cd-477b-f478-58375b4331cd"
      },
      "execution_count": null,
      "outputs": [
        {
          "output_type": "execute_result",
          "data": {
            "text/plain": [
              "matrix([[ -1,  -1,  -1,  -1,   0,  -1],\n",
              "        [ -1,  -1,  -1,   0,  -1, 100],\n",
              "        [ -1,  -1,  -1,   0,  -1,  -1],\n",
              "        [ -1,   0,   0,  -1,   0,  -1],\n",
              "        [  0,  -1,  -1,   0,  -1, 100],\n",
              "        [ -1,   0,  -1,  -1,   0, 100]])"
            ]
          },
          "metadata": {},
          "execution_count": 7
        }
      ]
    },
    {
      "cell_type": "code",
      "source": [
        "current_state = 0\n",
        "steps = [current_state]\n",
        "print(steps)\n",
        "while current_state != 5:\n",
        "    next_step_index = np.where(Q[current_state,] == np.max(Q[current_state,]))[1]\n",
        "    if next_step_index.shape[0] > 1:\n",
        "        next_step_index = int(np.random.choice(next_step_index, size=1))\n",
        "    else:\n",
        "        next_step_index = int(next_step_index)\n",
        "        \n",
        "    steps.append(next_step_index)\n",
        "    current_state = next_step_index\n",
        "\n",
        "print('Selected path: ')\n",
        "print(steps)"
      ],
      "metadata": {
        "colab": {
          "base_uri": "https://localhost:8080/"
        },
        "id": "yGOlwOaHzuw0",
        "outputId": "2b0fb6b7-253b-4313-8ebd-f08d82898fff"
      },
      "execution_count": null,
      "outputs": [
        {
          "output_type": "stream",
          "name": "stdout",
          "text": [
            "[0]\n",
            "Selected path: \n",
            "[0, 4, 5]\n"
          ]
        }
      ]
    },
    {
      "cell_type": "code",
      "source": [],
      "metadata": {
        "id": "eWAdvQ_UzxQm"
      },
      "execution_count": null,
      "outputs": []
    }
  ]
}