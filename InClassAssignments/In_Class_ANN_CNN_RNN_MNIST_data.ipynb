{
  "cells": [
    {
      "cell_type": "markdown",
      "metadata": {
        "id": "V3b7bztZ63-n"
      },
      "source": [
        "The neural network below is a simple one-layer model using the sigmoid activation function. This model is designed to classify images of handwritten digits (0-9), typically from the MNIST dataset. Each input image is 28x28 pixels, resulting in a 784-length input vector (28 * 28 = 784).\n",
        "\n",
        "The output layer has 10 neurons, one for each digit from 0 to 9. The activation function used here is 'sigmoid', which indeed predicts values between 0 and 1. However, it's important to note that the sigmoid function is applied independently to each of the 10 output neurons. This means that each neuron will produce a probability-like value, representing the confidence that the input corresponds to that particular digit.\n",
        "\n",
        "To determine the predicted digit, you would generally choose the neuron with the highest output value, which corresponds to the highest confidence.\n",
        "\n",
        "The order of the neurons and their association with the digits is determined by the one-hot encoded labels used during the training process. As long as the labels are consistent, the model will learn to predict digits correctly:\n",
        "\n",
        "- 0 -> [1, 0, 0, 0, 0, 0, 0, 0, 0, 0]\n",
        "- 1 -> [0, 1, 0, 0, 0, 0, 0, 0, 0, 0]\n",
        "- 2 -> [0, 0, 1, 0, 0, 0, 0, 0, 0, 0]\n",
        "- ...\n",
        "- 9 -> [0, 0, 0, 0, 0, 0, 0, 0, 0, 1]\n",
        "\n",
        "The model will learn to associate the first neuron with the digit 0, the second neuron with the digit 1, and so on. The training process, which involves adjusting the weights and biases of the network, ensures that the model can map the input images to the corresponding one-hot encoded labels.\n",
        "\n",
        "To be more specific, during the training process, the model will try to minimize the difference between its predictions and the one-hot encoded ground truth labels. So, if the first output neuron is not predicting 0 when it should, the loss function will indicate that the prediction is incorrect, and the training algorithm will update the model's weights and biases accordingly. Over many iterations, the model will learn to predict the correct digit for each input image."
      ]
    },
    {
      "cell_type": "code",
      "execution_count": 1,
      "metadata": {
        "id": "ex_Oc3zy88e8",
        "colab": {
          "base_uri": "https://localhost:8080/"
        },
        "outputId": "9c1c6a13-6c2c-457e-c931-bdc5c7120ca3"
      },
      "outputs": [
        {
          "output_type": "stream",
          "name": "stdout",
          "text": [
            "Numpy version: 1.22.4\n",
            "TensorFlow version: 2.12.0\n"
          ]
        }
      ],
      "source": [
        "import numpy as np\n",
        "import tensorflow as tf\n",
        "from tensorflow import keras\n",
        "import matplotlib.pyplot as plt\n",
        "%matplotlib inline\n",
        "from keras.datasets import mnist\n",
        "from keras.models import Sequential\n",
        "from keras.layers import Dense, Flatten\n",
        "from keras.utils import to_categorical\n",
        "\n",
        "print(\"Numpy version:\", np.__version__)\n",
        "print(\"TensorFlow version:\", tf.__version__)"
      ]
    },
    {
      "cell_type": "code",
      "execution_count": null,
      "metadata": {
        "id": "q2nsbyxC9boL"
      },
      "outputs": [],
      "source": [
        "(X_train, y_train), (X_test, y_test) = keras.datasets.mnist.load_data()"
      ]
    },
    {
      "cell_type": "code",
      "execution_count": null,
      "metadata": {
        "colab": {
          "base_uri": "https://localhost:8080/"
        },
        "id": "FMdzN8VZ_Ioh",
        "outputId": "9135bac6-b11b-4781-f487-53ef93a283a5"
      },
      "outputs": [
        {
          "output_type": "execute_result",
          "data": {
            "text/plain": [
              "60000"
            ]
          },
          "metadata": {},
          "execution_count": 223
        }
      ],
      "source": [
        "len(X_train)"
      ]
    },
    {
      "cell_type": "code",
      "execution_count": null,
      "metadata": {
        "colab": {
          "base_uri": "https://localhost:8080/"
        },
        "id": "irM4I1X3_VIa",
        "outputId": "5db01206-c899-4c09-fcc8-6b94e0edd499"
      },
      "outputs": [
        {
          "output_type": "execute_result",
          "data": {
            "text/plain": [
              "10000"
            ]
          },
          "metadata": {},
          "execution_count": 224
        }
      ],
      "source": [
        "len(X_test)"
      ]
    },
    {
      "cell_type": "code",
      "execution_count": null,
      "metadata": {
        "colab": {
          "base_uri": "https://localhost:8080/"
        },
        "id": "dm9HFDc0_YtJ",
        "outputId": "778b3cb5-5e88-4195-ce6b-061355b6a0e5"
      },
      "outputs": [
        {
          "output_type": "execute_result",
          "data": {
            "text/plain": [
              "(60000, 28, 28)"
            ]
          },
          "metadata": {},
          "execution_count": 225
        }
      ],
      "source": [
        "X_train.shape"
      ]
    },
    {
      "cell_type": "code",
      "execution_count": null,
      "metadata": {
        "colab": {
          "base_uri": "https://localhost:8080/",
          "height": 454
        },
        "id": "E4QM7B8g_a-h",
        "outputId": "df7fb2c6-cd42-49bc-810b-6f0670a55552"
      },
      "outputs": [
        {
          "output_type": "execute_result",
          "data": {
            "text/plain": [
              "<matplotlib.image.AxesImage at 0x7f206cf16fb0>"
            ]
          },
          "metadata": {},
          "execution_count": 226
        },
        {
          "output_type": "display_data",
          "data": {
            "text/plain": [
              "<Figure size 480x480 with 1 Axes>"
            ],
            "image/png": "[encoded data removed]"
          },
          "metadata": {}
        }
      ],
      "source": [
        "plt.matshow(X_train[2])"
      ]
    },
    {
      "cell_type": "code",
      "execution_count": null,
      "metadata": {
        "colab": {
          "base_uri": "https://localhost:8080/",
          "height": 437
        },
        "id": "W-1WYCdgiYBM",
        "outputId": "c7a34fb5-9a83-413d-fb3b-59c35b631d76"
      },
      "outputs": [
        {
          "output_type": "display_data",
          "data": {
            "text/plain": [
              "<Figure size 480x480 with 1 Axes>"
            ],
            "image/png": "[encoded data removed]"
          },
          "metadata": {}
        }
      ],
      "source": [
        "plt.matshow(X_train[2], cmap='gray')\n",
        "plt.show()"
      ]
    },
    {
      "cell_type": "code",
      "execution_count": null,
      "metadata": {
        "colab": {
          "base_uri": "https://localhost:8080/"
        },
        "id": "F1ArlGkI_ili",
        "outputId": "29523bf2-3cfc-41fc-b28b-cba57ffb688e"
      },
      "outputs": [
        {
          "output_type": "execute_result",
          "data": {
            "text/plain": [
              "4"
            ]
          },
          "metadata": {},
          "execution_count": 228
        }
      ],
      "source": [
        "y_train[2]"
      ]
    },
    {
      "cell_type": "code",
      "execution_count": null,
      "metadata": {
        "colab": {
          "base_uri": "https://localhost:8080/"
        },
        "id": "uouZGkWTABOz",
        "outputId": "76cd2165-400b-4c8e-a4f3-732a59a18553"
      },
      "outputs": [
        {
          "output_type": "execute_result",
          "data": {
            "text/plain": [
              "array([[  0,   0,   0,   0,   0,   0,   0,   0,   0,   0,   0,   0,   0,\n",
              "          0,   0,   0,   0,   0,   0,   0,   0,   0,   0,   0,   0,   0,\n",
              "          0,   0],\n",
              "       [  0,   0,   0,   0,   0,   0,   0,   0,   0,   0,   0,   0,   0,\n",
              "          0,   0,   0,   0,   0,   0,   0,   0,   0,   0,   0,   0,   0,\n",
              "          0,   0],\n",
              "       [  0,   0,   0,   0,   0,   0,   0,   0,   0,   0,   0,   0,   0,\n",
              "          0,   0,   0,   0,   0,   0,   0,   0,   0,   0,   0,   0,   0,\n",
              "          0,   0],\n",
              "       [  0,   0,   0,   0,   0,   0,   0,   0,   0,   0,   0,   0,   0,\n",
              "          0,   0,   0,   0,   0,   0,   0,   0,   0,   0,   0,   0,   0,\n",
              "          0,   0],\n",
              "       [  0,   0,   0,   0,   0,   0,   0,   0,   0,   0,   0,   0,   0,\n",
              "          0,   0,   0,   0,   0,   0,   0,   0,   0,   0,   0,   0,   0,\n",
              "          0,   0],\n",
              "       [  0,   0,   0,   0,   0,   0,   0,   0,   0,   0,   0,   0,   0,\n",
              "          0,   0,   0,   0,   0,   0,   0,  67, 232,  39,   0,   0,   0,\n",
              "          0,   0],\n",
              "       [  0,   0,   0,   0,  62,  81,   0,   0,   0,   0,   0,   0,   0,\n",
              "          0,   0,   0,   0,   0,   0,   0, 120, 180,  39,   0,   0,   0,\n",
              "          0,   0],\n",
              "       [  0,   0,   0,   0, 126, 163,   0,   0,   0,   0,   0,   0,   0,\n",
              "          0,   0,   0,   0,   0,   0,   2, 153, 210,  40,   0,   0,   0,\n",
              "          0,   0],\n",
              "       [  0,   0,   0,   0, 220, 163,   0,   0,   0,   0,   0,   0,   0,\n",
              "          0,   0,   0,   0,   0,   0,  27, 254, 162,   0,   0,   0,   0,\n",
              "          0,   0],\n",
              "       [  0,   0,   0,   0, 222, 163,   0,   0,   0,   0,   0,   0,   0,\n",
              "          0,   0,   0,   0,   0,   0, 183, 254, 125,   0,   0,   0,   0,\n",
              "          0,   0],\n",
              "       [  0,   0,   0,  46, 245, 163,   0,   0,   0,   0,   0,   0,   0,\n",
              "          0,   0,   0,   0,   0,   0, 198, 254,  56,   0,   0,   0,   0,\n",
              "          0,   0],\n",
              "       [  0,   0,   0, 120, 254, 163,   0,   0,   0,   0,   0,   0,   0,\n",
              "          0,   0,   0,   0,   0,  23, 231, 254,  29,   0,   0,   0,   0,\n",
              "          0,   0],\n",
              "       [  0,   0,   0, 159, 254, 120,   0,   0,   0,   0,   0,   0,   0,\n",
              "          0,   0,   0,   0,   0, 163, 254, 216,  16,   0,   0,   0,   0,\n",
              "          0,   0],\n",
              "       [  0,   0,   0, 159, 254,  67,   0,   0,   0,   0,   0,   0,   0,\n",
              "          0,   0,  14,  86, 178, 248, 254,  91,   0,   0,   0,   0,   0,\n",
              "          0,   0],\n",
              "       [  0,   0,   0, 159, 254,  85,   0,   0,   0,  47,  49, 116, 144,\n",
              "        150, 241, 243, 234, 179, 241, 252,  40,   0,   0,   0,   0,   0,\n",
              "          0,   0],\n",
              "       [  0,   0,   0, 150, 253, 237, 207, 207, 207, 253, 254, 250, 240,\n",
              "        198, 143,  91,  28,   5, 233, 250,   0,   0,   0,   0,   0,   0,\n",
              "          0,   0],\n",
              "       [  0,   0,   0,   0, 119, 177, 177, 177, 177, 177,  98,  56,   0,\n",
              "          0,   0,   0,   0, 102, 254, 220,   0,   0,   0,   0,   0,   0,\n",
              "          0,   0],\n",
              "       [  0,   0,   0,   0,   0,   0,   0,   0,   0,   0,   0,   0,   0,\n",
              "          0,   0,   0,   0, 169, 254, 137,   0,   0,   0,   0,   0,   0,\n",
              "          0,   0],\n",
              "       [  0,   0,   0,   0,   0,   0,   0,   0,   0,   0,   0,   0,   0,\n",
              "          0,   0,   0,   0, 169, 254,  57,   0,   0,   0,   0,   0,   0,\n",
              "          0,   0],\n",
              "       [  0,   0,   0,   0,   0,   0,   0,   0,   0,   0,   0,   0,   0,\n",
              "          0,   0,   0,   0, 169, 254,  57,   0,   0,   0,   0,   0,   0,\n",
              "          0,   0],\n",
              "       [  0,   0,   0,   0,   0,   0,   0,   0,   0,   0,   0,   0,   0,\n",
              "          0,   0,   0,   0, 169, 255,  94,   0,   0,   0,   0,   0,   0,\n",
              "          0,   0],\n",
              "       [  0,   0,   0,   0,   0,   0,   0,   0,   0,   0,   0,   0,   0,\n",
              "          0,   0,   0,   0, 169, 254,  96,   0,   0,   0,   0,   0,   0,\n",
              "          0,   0],\n",
              "       [  0,   0,   0,   0,   0,   0,   0,   0,   0,   0,   0,   0,   0,\n",
              "          0,   0,   0,   0, 169, 254, 153,   0,   0,   0,   0,   0,   0,\n",
              "          0,   0],\n",
              "       [  0,   0,   0,   0,   0,   0,   0,   0,   0,   0,   0,   0,   0,\n",
              "          0,   0,   0,   0, 169, 255, 153,   0,   0,   0,   0,   0,   0,\n",
              "          0,   0],\n",
              "       [  0,   0,   0,   0,   0,   0,   0,   0,   0,   0,   0,   0,   0,\n",
              "          0,   0,   0,   0,  96, 254, 153,   0,   0,   0,   0,   0,   0,\n",
              "          0,   0],\n",
              "       [  0,   0,   0,   0,   0,   0,   0,   0,   0,   0,   0,   0,   0,\n",
              "          0,   0,   0,   0,   0,   0,   0,   0,   0,   0,   0,   0,   0,\n",
              "          0,   0],\n",
              "       [  0,   0,   0,   0,   0,   0,   0,   0,   0,   0,   0,   0,   0,\n",
              "          0,   0,   0,   0,   0,   0,   0,   0,   0,   0,   0,   0,   0,\n",
              "          0,   0],\n",
              "       [  0,   0,   0,   0,   0,   0,   0,   0,   0,   0,   0,   0,   0,\n",
              "          0,   0,   0,   0,   0,   0,   0,   0,   0,   0,   0,   0,   0,\n",
              "          0,   0]], dtype=uint8)"
            ]
          },
          "metadata": {},
          "execution_count": 229
        }
      ],
      "source": [
        "X_train[2]"
      ]
    },
    {
      "cell_type": "code",
      "execution_count": null,
      "metadata": {
        "colab": {
          "base_uri": "https://localhost:8080/"
        },
        "id": "maclnoSji9k0",
        "outputId": "91f25192-8ee7-4f47-c3a8-8963467d6e3b"
      },
      "outputs": [
        {
          "output_type": "execute_result",
          "data": {
            "text/plain": [
              "(28, 28)"
            ]
          },
          "metadata": {},
          "execution_count": 230
        }
      ],
      "source": [
        "X_train[2].shape"
      ]
    },
    {
      "cell_type": "code",
      "execution_count": null,
      "metadata": {
        "colab": {
          "base_uri": "https://localhost:8080/"
        },
        "id": "6ELJiSs-jWUi",
        "outputId": "2a8a45f6-aba1-4e7b-b676-fa88aed1054b"
      },
      "outputs": [
        {
          "output_type": "execute_result",
          "data": {
            "text/plain": [
              "784"
            ]
          },
          "metadata": {},
          "execution_count": 231
        }
      ],
      "source": [
        "flat_shape = X_train[2].shape[0] * X_train[2].shape[1]\n",
        "flat_shape"
      ]
    },
    {
      "cell_type": "code",
      "execution_count": null,
      "metadata": {
        "colab": {
          "base_uri": "https://localhost:8080/"
        },
        "id": "HoptkLwj_opq",
        "outputId": "a11f13c9-c23b-4a72-9142-ad5bbf601e8a"
      },
      "outputs": [
        {
          "output_type": "execute_result",
          "data": {
            "text/plain": [
              "(60000, 784)"
            ]
          },
          "metadata": {},
          "execution_count": 232
        }
      ],
      "source": [
        "X_train_flattened = X_train.reshape(len(X_train), flat_shape)\n",
        "X_train_flattened.shape"
      ]
    },
    {
      "cell_type": "code",
      "execution_count": null,
      "metadata": {
        "colab": {
          "base_uri": "https://localhost:8080/"
        },
        "id": "fYvz5SaBDgMX",
        "outputId": "1de39089-5145-4d30-b494-e4b1f43ae6c1"
      },
      "outputs": [
        {
          "output_type": "execute_result",
          "data": {
            "text/plain": [
              "(10000, 784)"
            ]
          },
          "metadata": {},
          "execution_count": 233
        }
      ],
      "source": [
        "X_test_flattened = X_test.reshape(len(X_test), flat_shape)\n",
        "X_test_flattened.shape"
      ]
    },
    {
      "cell_type": "code",
      "execution_count": null,
      "metadata": {
        "colab": {
          "base_uri": "https://localhost:8080/"
        },
        "id": "e6MRTqyS_9_M",
        "outputId": "f9634963-66a4-42fb-e738-c74cf44e1ccf"
      },
      "outputs": [
        {
          "output_type": "execute_result",
          "data": {
            "text/plain": [
              "(784,)"
            ]
          },
          "metadata": {},
          "execution_count": 234
        }
      ],
      "source": [
        "X_train_flattened[2].shape"
      ]
    },
    {
      "cell_type": "code",
      "execution_count": null,
      "metadata": {
        "colab": {
          "base_uri": "https://localhost:8080/"
        },
        "id": "ZGe0V6QmkKCK",
        "outputId": "70912302-6e1c-43c0-a916-2cb1816d7ec5"
      },
      "outputs": [
        {
          "output_type": "execute_result",
          "data": {
            "text/plain": [
              "array([  0,   0,   0,   0,   0,   0,   0,   0,   0,   0,   0,   0,   0,\n",
              "         0,   0,   0,   0,   0,   0,   0,   0,   0,   0,   0,   0,   0,\n",
              "         0,   0,   0,   0,   0,   0,   0,   0,   0,   0,   0,   0,   0,\n",
              "         0,   0,   0,   0,   0,   0,   0,   0,   0,   0,   0,   0,   0,\n",
              "         0,   0,   0,   0,   0,   0,   0,   0,   0,   0,   0,   0,   0,\n",
              "         0,   0,   0,   0,   0,   0,   0,   0,   0,   0,   0,   0,   0,\n",
              "         0,   0,   0,   0,   0,   0,   0,   0,   0,   0,   0,   0,   0,\n",
              "         0,   0,   0,   0,   0,   0,   0,   0,   0,   0,   0,   0,   0,\n",
              "         0,   0,   0,   0,   0,   0,   0,   0,   0,   0,   0,   0,   0,\n",
              "         0,   0,   0,   0,   0,   0,   0,   0,   0,   0,   0,   0,   0,\n",
              "         0,   0,   0,   0,   0,   0,   0,   0,   0,   0,   0,   0,   0,\n",
              "         0,   0,   0,   0,   0,   0,   0,   0,   0,   0,   0,   0,   0,\n",
              "         0,   0,   0,   0,  67, 232,  39,   0,   0,   0,   0,   0,   0,\n",
              "         0,   0,   0,  62,  81,   0,   0,   0,   0,   0,   0,   0,   0,\n",
              "         0,   0,   0,   0,   0,   0, 120, 180,  39,   0,   0,   0,   0,\n",
              "         0,   0,   0,   0,   0, 126, 163,   0,   0,   0,   0,   0,   0,\n",
              "         0,   0,   0,   0,   0,   0,   0,   2, 153, 210,  40,   0,   0,\n",
              "         0,   0,   0,   0,   0,   0,   0, 220, 163,   0,   0,   0,   0,\n",
              "         0,   0,   0,   0,   0,   0,   0,   0,   0,  27, 254, 162,   0,\n",
              "         0,   0,   0,   0,   0,   0,   0,   0,   0, 222, 163,   0,   0,\n",
              "         0,   0,   0,   0,   0,   0,   0,   0,   0,   0,   0, 183, 254,\n",
              "       125,   0,   0,   0,   0,   0,   0,   0,   0,   0,  46, 245, 163,\n",
              "         0,   0,   0,   0,   0,   0,   0,   0,   0,   0,   0,   0,   0,\n",
              "       198, 254,  56,   0,   0,   0,   0,   0,   0,   0,   0,   0, 120,\n",
              "       254, 163,   0,   0,   0,   0,   0,   0,   0,   0,   0,   0,   0,\n",
              "         0,  23, 231, 254,  29,   0,   0,   0,   0,   0,   0,   0,   0,\n",
              "         0, 159, 254, 120,   0,   0,   0,   0,   0,   0,   0,   0,   0,\n",
              "         0,   0,   0, 163, 254, 216,  16,   0,   0,   0,   0,   0,   0,\n",
              "         0,   0,   0, 159, 254,  67,   0,   0,   0,   0,   0,   0,   0,\n",
              "         0,   0,  14,  86, 178, 248, 254,  91,   0,   0,   0,   0,   0,\n",
              "         0,   0,   0,   0,   0, 159, 254,  85,   0,   0,   0,  47,  49,\n",
              "       116, 144, 150, 241, 243, 234, 179, 241, 252,  40,   0,   0,   0,\n",
              "         0,   0,   0,   0,   0,   0,   0, 150, 253, 237, 207, 207, 207,\n",
              "       253, 254, 250, 240, 198, 143,  91,  28,   5, 233, 250,   0,   0,\n",
              "         0,   0,   0,   0,   0,   0,   0,   0,   0,   0, 119, 177, 177,\n",
              "       177, 177, 177,  98,  56,   0,   0,   0,   0,   0, 102, 254, 220,\n",
              "         0,   0,   0,   0,   0,   0,   0,   0,   0,   0,   0,   0,   0,\n",
              "         0,   0,   0,   0,   0,   0,   0,   0,   0,   0,   0,   0, 169,\n",
              "       254, 137,   0,   0,   0,   0,   0,   0,   0,   0,   0,   0,   0,\n",
              "         0,   0,   0,   0,   0,   0,   0,   0,   0,   0,   0,   0,   0,\n",
              "         0, 169, 254,  57,   0,   0,   0,   0,   0,   0,   0,   0,   0,\n",
              "         0,   0,   0,   0,   0,   0,   0,   0,   0,   0,   0,   0,   0,\n",
              "         0,   0,   0, 169, 254,  57,   0,   0,   0,   0,   0,   0,   0,\n",
              "         0,   0,   0,   0,   0,   0,   0,   0,   0,   0,   0,   0,   0,\n",
              "         0,   0,   0,   0,   0, 169, 255,  94,   0,   0,   0,   0,   0,\n",
              "         0,   0,   0,   0,   0,   0,   0,   0,   0,   0,   0,   0,   0,\n",
              "         0,   0,   0,   0,   0,   0,   0, 169, 254,  96,   0,   0,   0,\n",
              "         0,   0,   0,   0,   0,   0,   0,   0,   0,   0,   0,   0,   0,\n",
              "         0,   0,   0,   0,   0,   0,   0,   0,   0, 169, 254, 153,   0,\n",
              "         0,   0,   0,   0,   0,   0,   0,   0,   0,   0,   0,   0,   0,\n",
              "         0,   0,   0,   0,   0,   0,   0,   0,   0,   0,   0, 169, 255,\n",
              "       153,   0,   0,   0,   0,   0,   0,   0,   0,   0,   0,   0,   0,\n",
              "         0,   0,   0,   0,   0,   0,   0,   0,   0,   0,   0,   0,   0,\n",
              "        96, 254, 153,   0,   0,   0,   0,   0,   0,   0,   0,   0,   0,\n",
              "         0,   0,   0,   0,   0,   0,   0,   0,   0,   0,   0,   0,   0,\n",
              "         0,   0,   0,   0,   0,   0,   0,   0,   0,   0,   0,   0,   0,\n",
              "         0,   0,   0,   0,   0,   0,   0,   0,   0,   0,   0,   0,   0,\n",
              "         0,   0,   0,   0,   0,   0,   0,   0,   0,   0,   0,   0,   0,\n",
              "         0,   0,   0,   0,   0,   0,   0,   0,   0,   0,   0,   0,   0,\n",
              "         0,   0,   0,   0,   0,   0,   0,   0,   0,   0,   0,   0,   0,\n",
              "         0,   0,   0,   0], dtype=uint8)"
            ]
          },
          "metadata": {},
          "execution_count": 235
        }
      ],
      "source": [
        "X_train_flattened[2]"
      ]
    },
    {
      "cell_type": "code",
      "execution_count": null,
      "metadata": {
        "colab": {
          "base_uri": "https://localhost:8080/"
        },
        "id": "Te4Cy9aYkfZR",
        "outputId": "b35c2ef4-2d47-446f-d14a-dea35dec52a7"
      },
      "outputs": [
        {
          "output_type": "stream",
          "name": "stdout",
          "text": [
            "(array([5]), array([21]))\n",
            "(array([161]),)\n"
          ]
        }
      ],
      "source": [
        "print(np.where(X_train[2] == 232)) # (array([5]), array([21])) so 28*5 + 21 = 161\n",
        "print(np.where(X_train_flattened[2] == 232))"
      ]
    },
    {
      "cell_type": "markdown",
      "metadata": {
        "id": "ZJEmTs8CsazA"
      },
      "source": [
        "- The neural network is a simple one-layer model using the sigmoid activation function. \n",
        "- This model is designed to classify images of handwritten digits (0-9), typically from the MNIST dataset. \n",
        "- Each input image is 28x28 pixels, resulting in a 784-length input vector (28 * 28 = 784).\n",
        "- The output layer has 10 neurons, one for each digit from 0 to 9. \n",
        "- The activation function used here is 'sigmoid', which indeed predicts values between 0 and 1. \n",
        "  - However, it's important to note that the sigmoid function is applied independently to each of the 10 output neurons. \n",
        "  - This means that each neuron will produce a probability-like value, representing the confidence that the input corresponds to that particular digit.\n",
        "\n",
        "- To determine the predicted digit, you would generally choose the neuron with the highest output value, which corresponds to the highest confidence.\n",
        "  - This model is not ideal for multi-class classification. \n",
        "  - For such tasks, it is more common to use the softmax activation function in the output layer, which normalizes the outputs to sum up to 1, making them interpretable as probabilities. \n",
        "  - To use softmax in the Keras model, simply replace 'sigmoid' with 'softmax"
      ]
    },
    {
      "cell_type": "code",
      "execution_count": null,
      "metadata": {
        "colab": {
          "base_uri": "https://localhost:8080/",
          "height": 836
        },
        "id": "ZPRr3OhaAPKD",
        "outputId": "c21dca9b-4f71-4a1c-cf4e-135c89e5c147"
      },
      "outputs": [
        {
          "output_type": "stream",
          "name": "stdout",
          "text": [
            "Epoch 1/5\n",
            "1875/1875 [==============================] - 5s 3ms/step - loss: 9.7695 - accuracy: 0.8400\n",
            "Epoch 2/5\n",
            "1875/1875 [==============================] - 4s 2ms/step - loss: 6.0101 - accuracy: 0.8805\n",
            "Epoch 3/5\n",
            "1875/1875 [==============================] - 4s 2ms/step - loss: 5.6977 - accuracy: 0.8827\n",
            "Epoch 4/5\n",
            "1875/1875 [==============================] - 4s 2ms/step - loss: 5.5200 - accuracy: 0.8854\n",
            "Epoch 5/5\n",
            "1875/1875 [==============================] - 4s 2ms/step - loss: 5.2892 - accuracy: 0.8875\n",
            "313/313 [==============================] - 1s 2ms/step - loss: 5.4574 - accuracy: 0.8935\n",
            "313/313 [==============================] - 0s 1ms/step\n",
            "\n",
            "\n",
            "[0.0000000e+00 1.0000000e+00 1.0000000e+00 1.0000000e+00 2.9208323e-23\n",
            " 3.1830103e-03 9.9999875e-01 4.8393957e-15 1.0000000e+00 3.8332431e-04]\n",
            "\n",
            "\n",
            " Predicted: 1\n",
            " y_test: 1\n",
            "\n",
            "\n",
            "AxesImage(size=(28, 28))\n"
          ]
        },
        {
          "output_type": "display_data",
          "data": {
            "text/plain": [
              "<Figure size 480x480 with 1 Axes>"
            ],
            "image/png": "[encoded data removed]"
          },
          "metadata": {}
        }
      ],
      "source": [
        "model = keras.Sequential([\n",
        "    keras.layers.Dense(10, input_shape=(784,), activation = 'sigmoid')\n",
        "])\n",
        "\n",
        "model.compile(\n",
        "    optimizer = 'adam',\n",
        "    loss = 'SparseCategoricalCrossentropy',\n",
        "    metrics = ['accuracy']\n",
        ")\n",
        "\n",
        "\n",
        "model.fit(X_train_flattened, y_train, epochs=5)\n",
        "\n",
        "model.evaluate(X_test_flattened, y_test)\n",
        "\n",
        "y_predicted = model.predict(X_test_flattened)\n",
        "\n",
        "print('\\n')\n",
        "print(y_predicted[2])\n",
        "print('\\n')\n",
        "print(f\" Predicted: {np.argmax(y_predicted[2])}\")\n",
        "print(f\" y_test: {y_test[2]}\")\n",
        "print(\"\\n\")\n",
        "print(plt.matshow(X_test[2]))"
      ]
    },
    {
      "cell_type": "code",
      "execution_count": null,
      "metadata": {
        "colab": {
          "base_uri": "https://localhost:8080/",
          "height": 914
        },
        "id": "119QxIT1GLx0",
        "outputId": "2d0032bc-0edd-4bb6-eefd-342a73fc48c9"
      },
      "outputs": [
        {
          "output_type": "stream",
          "name": "stdout",
          "text": [
            " digit counts: [ 980 1135 1032 1010  982  892  958 1028  974 1009]\n",
            "\n",
            "\n",
            " Confusion Matrix: \n",
            "[[ 977    0    1    1    0    1    0    0    0    0]\n",
            " [   4 1123    6    1    0    1    0    0    0    0]\n",
            " [ 346  230  449    2    2    1    1    0    1    0]\n",
            " [ 139  132  542  195    1    0    0    1    0    0]\n",
            " [ 152   28  160  215  423    1    0    0    3    0]\n",
            " [ 342   35  248  169   44   52    2    0    0    0]\n",
            " [ 203   16  707   12    9    6    5    0    0    0]\n",
            " [  76   52  255  585   43   10    0    7    0    0]\n",
            " [ 161  148  532   91   18   21    1    0    2    0]\n",
            " [  78   32   96  630  164    4    0    5    0    0]]\n",
            "\n",
            "\n"
          ]
        },
        {
          "output_type": "execute_result",
          "data": {
            "text/plain": [
              "Text(95.72222222222221, 0.5, 'Truth')"
            ]
          },
          "metadata": {},
          "execution_count": 238
        },
        {
          "output_type": "display_data",
          "data": {
            "text/plain": [
              "<Figure size 1000x700 with 2 Axes>"
            ],
            "image/png": "[encoded data removed]"
          },
          "metadata": {}
        }
      ],
      "source": [
        "# Count the occurrences of each digit in the test set\n",
        "digit_counts = np.bincount(y_test)\n",
        "print(f\" digit counts: {digit_counts}\")\n",
        "print('\\n')\n",
        "\n",
        "y_predicted_labels = [np.argmax(i) for i in y_predicted]\n",
        "cm = tf.math.confusion_matrix(labels=y_test, predictions=y_predicted_labels)\n",
        "print(f\" Confusion Matrix: \\n{cm}\")\n",
        "\n",
        "# the diagnals are correctly predicted\n",
        "# for example 5 is predicted correctly 226 times\n",
        "# Looking at row 0 in the matrix:\n",
        "  # the digit 0 is correctly predicted 975 out of 980 times; \n",
        "  # it predicted 0 as a 2 (2 times)\n",
        "  # 3 (1 time)\n",
        "  # 4 (2 times) \n",
        "  # --> sum of row 0 = 980\n",
        "\n",
        "print(\"\\n\")\n",
        "import seaborn as sn\n",
        "plt.figure(figsize=(10,7))\n",
        "sn.heatmap(cm, annot=True, fmt='d')\n",
        "plt.xlabel('Predicted')\n",
        "plt.ylabel('Truth')"
      ]
    },
    {
      "cell_type": "markdown",
      "metadata": {
        "id": "ZvH2ekxEz6LN"
      },
      "source": [
        "- The model above is not ideal for multi-class classification.\n",
        "- For such tasks, it is more common to use the softmax activation function in the output layer, which normalizes the outputs to sum up to 1, making them interpretable as probabilities.\n",
        "- To use softmax in the Keras model, simply replace 'sigmoid' with 'softmax"
      ]
    },
    {
      "cell_type": "code",
      "execution_count": null,
      "metadata": {
        "colab": {
          "base_uri": "https://localhost:8080/"
        },
        "id": "XK3Bv_Wz0BK4",
        "outputId": "5ce00a93-3315-41d1-c94c-1c48fd6ee94d"
      },
      "outputs": [
        {
          "output_type": "stream",
          "name": "stdout",
          "text": [
            "Epoch 1/5\n",
            "1875/1875 [==============================] - 4s 2ms/step - loss: 9.9541 - accuracy: 0.8397\n",
            "Epoch 2/5\n",
            "1875/1875 [==============================] - 5s 3ms/step - loss: 6.1488 - accuracy: 0.8786\n",
            "Epoch 3/5\n",
            "1875/1875 [==============================] - 4s 2ms/step - loss: 5.8097 - accuracy: 0.8823\n",
            "Epoch 4/5\n",
            "1875/1875 [==============================] - 4s 2ms/step - loss: 5.5835 - accuracy: 0.8854\n",
            "Epoch 5/5\n",
            "1875/1875 [==============================] - 5s 3ms/step - loss: 5.3257 - accuracy: 0.8860\n",
            "313/313 [==============================] - 1s 2ms/step - loss: 5.9049 - accuracy: 0.8870\n",
            "313/313 [==============================] - 1s 2ms/step\n",
            "\n",
            "\n",
            "[0.0000000e+00 9.9999994e-01 1.7570382e-14 2.4777171e-29 0.0000000e+00\n",
            " 0.0000000e+00 0.0000000e+00 0.0000000e+00 3.5823826e-29 0.0000000e+00]\n",
            "\n",
            "\n",
            " Predicted: 1\n",
            " y_test: 1\n"
          ]
        }
      ],
      "source": [
        "model = keras.Sequential([\n",
        "    keras.layers.Dense(10, input_shape=(784,), activation = 'softmax')\n",
        "])\n",
        "\n",
        "model.compile(\n",
        "    optimizer = 'adam',\n",
        "    loss = 'SparseCategoricalCrossentropy',\n",
        "    metrics = ['accuracy']\n",
        ")\n",
        "\n",
        "\n",
        "model.fit(X_train_flattened, y_train, epochs=5)\n",
        "\n",
        "model.evaluate(X_test_flattened, y_test)\n",
        "\n",
        "y_predicted = model.predict(X_test_flattened)\n",
        "print('\\n')\n",
        "print(y_predicted[2])\n",
        "print('\\n')\n",
        "print(f\" Predicted: {np.argmax(y_predicted[2])}\")\n",
        "print(f\" y_test: {y_test[2]}\")"
      ]
    },
    {
      "cell_type": "markdown",
      "metadata": {
        "id": "Ryz9-xto2DmU"
      },
      "source": [
        "- Using X_train_flattened, X_test_flattened\n",
        "  - sigmoid --> accuracy: 0.8952\n",
        "  - softmax --> accuracy: 0.8854\n",
        "\n",
        "\n",
        "- Let's scale the data and re-evaluate"
      ]
    },
    {
      "cell_type": "code",
      "execution_count": null,
      "metadata": {
        "colab": {
          "base_uri": "https://localhost:8080/"
        },
        "id": "NfIPuM5h2gY0",
        "outputId": "6533c7d3-b540-4ec3-e0c9-ca1758c4a48b"
      },
      "outputs": [
        {
          "output_type": "stream",
          "name": "stdout",
          "text": [
            "[  0   0   0   0   0   0   0   0   0   0   0   0   0   0   0   0   0   0\n",
            "   0   0   0   0   0   0   0   0   0   0   0   0   0   0   0   0   0   0\n",
            "   0   0   0   0   0   0   0   0   0   0   0   0   0   0   0   0   0   0\n",
            "   0   0   0   0   0   0   0   0   0   0   0   0   0   0   0   0   0   0\n",
            "   0   0   0   0   0   0   0   0   0   0   0   0   0   0   0   0   0   0\n",
            "   0   0   0   0   0   0   0   0   0   0   0   0   0   0   0   0   0   0\n",
            "   0   0   0   0   0   0   0   0   0   0   0   0   0   0   0   0   0   0\n",
            "   0   0   0   0   0   0   0   0   0   0   0   0   0   0   0   0   0   0\n",
            "   0   0   0   0   0   0   0   0   0   0   0   0   0   0   0   0  67 232\n",
            "  39   0   0   0   0   0   0   0   0   0  62  81   0   0   0   0   0   0\n",
            "   0   0   0   0   0   0   0   0 120 180  39   0   0   0   0   0   0   0\n",
            "   0   0 126 163   0   0   0   0   0   0   0   0   0   0   0   0   0   2\n",
            " 153 210  40   0   0   0   0   0   0   0   0   0 220 163   0   0   0   0\n",
            "   0   0   0   0   0   0   0   0   0  27 254 162   0   0   0   0   0   0\n",
            "   0   0   0   0 222 163   0   0   0   0   0   0   0   0   0   0   0   0\n",
            "   0 183 254 125   0   0   0   0   0   0   0   0   0  46 245 163   0   0\n",
            "   0   0   0   0   0   0   0   0   0   0   0 198 254  56   0   0   0   0\n",
            "   0   0   0   0   0 120 254 163   0   0   0   0   0   0   0   0   0   0\n",
            "   0   0  23 231 254  29   0   0   0   0   0   0   0   0   0 159 254 120\n",
            "   0   0   0   0   0   0   0   0   0   0   0   0 163 254 216  16   0   0\n",
            "   0   0   0   0   0   0   0 159 254  67   0   0   0   0   0   0   0   0\n",
            "   0  14  86 178 248 254  91   0   0   0   0   0   0   0   0   0   0 159\n",
            " 254  85   0   0   0  47  49 116 144 150 241 243 234 179 241 252  40   0\n",
            "   0   0   0   0   0   0   0   0   0 150 253 237 207 207 207 253 254 250\n",
            " 240 198 143  91  28   5 233 250   0   0   0   0   0   0   0   0   0   0\n",
            "   0   0 119 177 177 177 177 177  98  56   0   0   0   0   0 102 254 220\n",
            "   0   0   0   0   0   0   0   0   0   0   0   0   0   0   0   0   0   0\n",
            "   0   0   0   0   0   0   0 169 254 137   0   0   0   0   0   0   0   0\n",
            "   0   0   0   0   0   0   0   0   0   0   0   0   0   0   0   0   0 169\n",
            " 254  57   0   0   0   0   0   0   0   0   0   0   0   0   0   0   0   0\n",
            "   0   0   0   0   0   0   0   0   0 169 254  57   0   0   0   0   0   0\n",
            "   0   0   0   0   0   0   0   0   0   0   0   0   0   0   0   0   0   0\n",
            "   0 169 255  94   0   0   0   0   0   0   0   0   0   0   0   0   0   0\n",
            "   0   0   0   0   0   0   0   0   0   0   0 169 254  96   0   0   0   0\n",
            "   0   0   0   0   0   0   0   0   0   0   0   0   0   0   0   0   0   0\n",
            "   0   0   0 169 254 153   0   0   0   0   0   0   0   0   0   0   0   0\n",
            "   0   0   0   0   0   0   0   0   0   0   0   0   0 169 255 153   0   0\n",
            "   0   0   0   0   0   0   0   0   0   0   0   0   0   0   0   0   0   0\n",
            "   0   0   0   0   0  96 254 153   0   0   0   0   0   0   0   0   0   0\n",
            "   0   0   0   0   0   0   0   0   0   0   0   0   0   0   0   0   0   0\n",
            "   0   0   0   0   0   0   0   0   0   0   0   0   0   0   0   0   0   0\n",
            "   0   0   0   0   0   0   0   0   0   0   0   0   0   0   0   0   0   0\n",
            "   0   0   0   0   0   0   0   0   0   0   0   0   0   0   0   0   0   0\n",
            "   0   0   0   0   0   0   0   0   0   0]\n",
            "\n",
            "\n",
            "[0.         0.         0.         0.         0.         0.\n",
            " 0.         0.         0.         0.         0.         0.\n",
            " 0.         0.         0.         0.         0.         0.\n",
            " 0.         0.         0.         0.         0.         0.\n",
            " 0.         0.         0.         0.         0.         0.\n",
            " 0.         0.         0.         0.         0.         0.\n",
            " 0.         0.         0.         0.         0.         0.\n",
            " 0.         0.         0.         0.         0.         0.\n",
            " 0.         0.         0.         0.         0.         0.\n",
            " 0.         0.         0.         0.         0.         0.\n",
            " 0.         0.         0.         0.         0.         0.\n",
            " 0.         0.         0.         0.         0.         0.\n",
            " 0.         0.         0.         0.         0.         0.\n",
            " 0.         0.         0.         0.         0.         0.\n",
            " 0.         0.         0.         0.         0.         0.\n",
            " 0.         0.         0.         0.         0.         0.\n",
            " 0.         0.         0.         0.         0.         0.\n",
            " 0.         0.         0.         0.         0.         0.\n",
            " 0.         0.         0.         0.         0.         0.\n",
            " 0.         0.         0.         0.         0.         0.\n",
            " 0.         0.         0.         0.         0.         0.\n",
            " 0.         0.         0.         0.         0.         0.\n",
            " 0.         0.         0.         0.         0.         0.\n",
            " 0.         0.         0.         0.         0.         0.\n",
            " 0.         0.         0.         0.         0.         0.\n",
            " 0.         0.         0.         0.         0.         0.\n",
            " 0.         0.         0.         0.         0.2627451  0.9098039\n",
            " 0.15294118 0.         0.         0.         0.         0.\n",
            " 0.         0.         0.         0.         0.24313726 0.31764707\n",
            " 0.         0.         0.         0.         0.         0.\n",
            " 0.         0.         0.         0.         0.         0.\n",
            " 0.         0.         0.47058824 0.7058824  0.15294118 0.\n",
            " 0.         0.         0.         0.         0.         0.\n",
            " 0.         0.         0.49411765 0.6392157  0.         0.\n",
            " 0.         0.         0.         0.         0.         0.\n",
            " 0.         0.         0.         0.         0.         0.00784314\n",
            " 0.6        0.8235294  0.15686275 0.         0.         0.\n",
            " 0.         0.         0.         0.         0.         0.\n",
            " 0.8627451  0.6392157  0.         0.         0.         0.\n",
            " 0.         0.         0.         0.         0.         0.\n",
            " 0.         0.         0.         0.10588235 0.99607843 0.63529414\n",
            " 0.         0.         0.         0.         0.         0.\n",
            " 0.         0.         0.         0.         0.87058824 0.6392157\n",
            " 0.         0.         0.         0.         0.         0.\n",
            " 0.         0.         0.         0.         0.         0.\n",
            " 0.         0.7176471  0.99607843 0.49019608 0.         0.\n",
            " 0.         0.         0.         0.         0.         0.\n",
            " 0.         0.18039216 0.9607843  0.6392157  0.         0.\n",
            " 0.         0.         0.         0.         0.         0.\n",
            " 0.         0.         0.         0.         0.         0.7764706\n",
            " 0.99607843 0.21960784 0.         0.         0.         0.\n",
            " 0.         0.         0.         0.         0.         0.47058824\n",
            " 0.99607843 0.6392157  0.         0.         0.         0.\n",
            " 0.         0.         0.         0.         0.         0.\n",
            " 0.         0.         0.09019608 0.90588236 0.99607843 0.11372549\n",
            " 0.         0.         0.         0.         0.         0.\n",
            " 0.         0.         0.         0.62352943 0.99607843 0.47058824\n",
            " 0.         0.         0.         0.         0.         0.\n",
            " 0.         0.         0.         0.         0.         0.\n",
            " 0.6392157  0.99607843 0.84705883 0.0627451  0.         0.\n",
            " 0.         0.         0.         0.         0.         0.\n",
            " 0.         0.62352943 0.99607843 0.2627451  0.         0.\n",
            " 0.         0.         0.         0.         0.         0.\n",
            " 0.         0.05490196 0.3372549  0.69803923 0.972549   0.99607843\n",
            " 0.35686275 0.         0.         0.         0.         0.\n",
            " 0.         0.         0.         0.         0.         0.62352943\n",
            " 0.99607843 0.33333334 0.         0.         0.         0.18431373\n",
            " 0.19215687 0.45490196 0.5647059  0.5882353  0.94509804 0.9529412\n",
            " 0.91764706 0.7019608  0.94509804 0.9882353  0.15686275 0.\n",
            " 0.         0.         0.         0.         0.         0.\n",
            " 0.         0.         0.         0.5882353  0.99215686 0.92941177\n",
            " 0.8117647  0.8117647  0.8117647  0.99215686 0.99607843 0.98039216\n",
            " 0.9411765  0.7764706  0.56078434 0.35686275 0.10980392 0.01960784\n",
            " 0.9137255  0.98039216 0.         0.         0.         0.\n",
            " 0.         0.         0.         0.         0.         0.\n",
            " 0.         0.         0.46666667 0.69411767 0.69411767 0.69411767\n",
            " 0.69411767 0.69411767 0.38431373 0.21960784 0.         0.\n",
            " 0.         0.         0.         0.4        0.99607843 0.8627451\n",
            " 0.         0.         0.         0.         0.         0.\n",
            " 0.         0.         0.         0.         0.         0.\n",
            " 0.         0.         0.         0.         0.         0.\n",
            " 0.         0.         0.         0.         0.         0.\n",
            " 0.         0.6627451  0.99607843 0.5372549  0.         0.\n",
            " 0.         0.         0.         0.         0.         0.\n",
            " 0.         0.         0.         0.         0.         0.\n",
            " 0.         0.         0.         0.         0.         0.\n",
            " 0.         0.         0.         0.         0.         0.6627451\n",
            " 0.99607843 0.22352941 0.         0.         0.         0.\n",
            " 0.         0.         0.         0.         0.         0.\n",
            " 0.         0.         0.         0.         0.         0.\n",
            " 0.         0.         0.         0.         0.         0.\n",
            " 0.         0.         0.         0.6627451  0.99607843 0.22352941\n",
            " 0.         0.         0.         0.         0.         0.\n",
            " 0.         0.         0.         0.         0.         0.\n",
            " 0.         0.         0.         0.         0.         0.\n",
            " 0.         0.         0.         0.         0.         0.\n",
            " 0.         0.6627451  1.         0.36862746 0.         0.\n",
            " 0.         0.         0.         0.         0.         0.\n",
            " 0.         0.         0.         0.         0.         0.\n",
            " 0.         0.         0.         0.         0.         0.\n",
            " 0.         0.         0.         0.         0.         0.6627451\n",
            " 0.99607843 0.3764706  0.         0.         0.         0.\n",
            " 0.         0.         0.         0.         0.         0.\n",
            " 0.         0.         0.         0.         0.         0.\n",
            " 0.         0.         0.         0.         0.         0.\n",
            " 0.         0.         0.         0.6627451  0.99607843 0.6\n",
            " 0.         0.         0.         0.         0.         0.\n",
            " 0.         0.         0.         0.         0.         0.\n",
            " 0.         0.         0.         0.         0.         0.\n",
            " 0.         0.         0.         0.         0.         0.\n",
            " 0.         0.6627451  1.         0.6        0.         0.\n",
            " 0.         0.         0.         0.         0.         0.\n",
            " 0.         0.         0.         0.         0.         0.\n",
            " 0.         0.         0.         0.         0.         0.\n",
            " 0.         0.         0.         0.         0.         0.3764706\n",
            " 0.99607843 0.6        0.         0.         0.         0.\n",
            " 0.         0.         0.         0.         0.         0.\n",
            " 0.         0.         0.         0.         0.         0.\n",
            " 0.         0.         0.         0.         0.         0.\n",
            " 0.         0.         0.         0.         0.         0.\n",
            " 0.         0.         0.         0.         0.         0.\n",
            " 0.         0.         0.         0.         0.         0.\n",
            " 0.         0.         0.         0.         0.         0.\n",
            " 0.         0.         0.         0.         0.         0.\n",
            " 0.         0.         0.         0.         0.         0.\n",
            " 0.         0.         0.         0.         0.         0.\n",
            " 0.         0.         0.         0.         0.         0.\n",
            " 0.         0.         0.         0.         0.         0.\n",
            " 0.         0.         0.         0.         0.         0.\n",
            " 0.         0.         0.         0.         0.         0.\n",
            " 0.         0.         0.         0.        ]\n"
          ]
        }
      ],
      "source": [
        "X_train_scaled = X_train.reshape(X_train.shape[0], X_train_flattened.shape[1]).astype('float32') / 255\n",
        "X_test_scaled = X_test.reshape(X_test.shape[0], X_test_flattened.shape[1]).astype('float32') / 255\n",
        "\n",
        "# Review the difference in flattened and scaled data\n",
        "print(X_train_flattened[2])\n",
        "print('\\n')\n",
        "print(X_train_scaled[2])"
      ]
    },
    {
      "cell_type": "code",
      "execution_count": null,
      "metadata": {
        "colab": {
          "base_uri": "https://localhost:8080/"
        },
        "id": "iS92P6V6GU9c",
        "outputId": "76e0110c-3be0-4f7a-e658-c257a7c754a9"
      },
      "outputs": [
        {
          "output_type": "stream",
          "name": "stdout",
          "text": [
            "Epoch 1/5\n",
            "1875/1875 [==============================] - 4s 2ms/step - loss: 0.4652 - accuracy: 0.8801\n",
            "Epoch 2/5\n",
            "1875/1875 [==============================] - 4s 2ms/step - loss: 0.3043 - accuracy: 0.9155\n",
            "Epoch 3/5\n",
            "1875/1875 [==============================] - 5s 3ms/step - loss: 0.2837 - accuracy: 0.9202\n",
            "Epoch 4/5\n",
            "1875/1875 [==============================] - 3s 2ms/step - loss: 0.2736 - accuracy: 0.9232\n",
            "Epoch 5/5\n",
            "1875/1875 [==============================] - 4s 2ms/step - loss: 0.2671 - accuracy: 0.9261\n",
            "313/313 [==============================] - 1s 2ms/step - loss: 0.2700 - accuracy: 0.9244\n",
            "313/313 [==============================] - 1s 2ms/step\n",
            "\n",
            "\n",
            "[3.42487154e-04 9.92956996e-01 6.59579694e-01 3.84885371e-01\n",
            " 2.52893232e-02 1.22373626e-01 1.96598321e-01 1.25914171e-01\n",
            " 3.97107512e-01 3.71290110e-02]\n",
            "\n",
            "\n",
            " Predicted: 1\n",
            " y_test: 1\n"
          ]
        }
      ],
      "source": [
        "model = keras.Sequential([\n",
        "    keras.layers.Dense(10, input_shape=(784,), activation = 'sigmoid')\n",
        "])\n",
        "\n",
        "model.compile(\n",
        "    optimizer = 'adam',\n",
        "    loss = 'SparseCategoricalCrossentropy',\n",
        "    metrics = ['accuracy']\n",
        ")\n",
        "\n",
        "\n",
        "model.fit(X_train_scaled, y_train, epochs=5)\n",
        "\n",
        "model.evaluate(X_test_scaled, y_test)\n",
        "\n",
        "y_predicted = model.predict(X_test_scaled)\n",
        "print('\\n')\n",
        "print(y_predicted[2])\n",
        "print('\\n')\n",
        "print(f\" Predicted: {np.argmax(y_predicted[2])}\")\n",
        "print(f\" y_test: {y_test[2]}\")"
      ]
    },
    {
      "cell_type": "code",
      "source": [
        "# Count the occurrences of each digit in the test set\n",
        "digit_counts = np.bincount(y_test)\n",
        "print(f\" digit counts: {digit_counts}\")\n",
        "print('\\n')\n",
        "\n",
        "y_predicted_labels = [np.argmax(i) for i in y_predicted]\n",
        "cm = tf.math.confusion_matrix(labels=y_test, predictions=y_predicted_labels)\n",
        "print(f\" Confusion Matrix: \\n{cm}\")\n",
        "\n",
        "# the diagnals are correctly predicted\n",
        "# for example 5 is predicted correctly 226 times\n",
        "# Looking at row 0 in the matrix:\n",
        "  # the digit 0 is correctly predicted 975 out of 980 times; \n",
        "  # it predicted 0 as a 2 (2 times)\n",
        "  # 3 (1 time)\n",
        "  # 4 (2 times) \n",
        "  # --> sum of row 0 = 980\n",
        "\n",
        "print(\"\\n\")\n",
        "import seaborn as sn\n",
        "plt.figure(figsize=(10,7))\n",
        "sn.heatmap(cm, annot=True, fmt='d')\n",
        "plt.xlabel('Predicted')\n",
        "plt.ylabel('Truth')"
      ],
      "metadata": {
        "colab": {
          "base_uri": "https://localhost:8080/",
          "height": 914
        },
        "id": "KLA9_rC9639U",
        "outputId": "b65a663f-496a-428a-8bd4-e78881931d3e"
      },
      "execution_count": null,
      "outputs": [
        {
          "output_type": "stream",
          "name": "stdout",
          "text": [
            " digit counts: [ 980 1135 1032 1010  982  892  958 1028  974 1009]\n",
            "\n",
            "\n",
            " Confusion Matrix: \n",
            "[[ 961    0    0    2    0    5    7    2    3    0]\n",
            " [   0 1108    3    2    0    1    4    2   15    0]\n",
            " [   7    9  910   20   10    6   13   10   44    3]\n",
            " [   4    0   15  923    1   26    3    9   23    6]\n",
            " [   1    1    2    1  922    0   13    3   11   28]\n",
            " [   8    2    2   32   11  782   18    4   28    5]\n",
            " [  11    3    4    1    7   12  916    2    2    0]\n",
            " [   1    5   20   10    9    0    0  946    6   31]\n",
            " [   5    7    6   26    9   31    9    7  869    5]\n",
            " [  10    7    1   12   37    7    0   18   10  907]]\n",
            "\n",
            "\n"
          ]
        },
        {
          "output_type": "execute_result",
          "data": {
            "text/plain": [
              "Text(95.72222222222221, 0.5, 'Truth')"
            ]
          },
          "metadata": {},
          "execution_count": 242
        },
        {
          "output_type": "display_data",
          "data": {
            "text/plain": [
              "<Figure size 1000x700 with 2 Axes>"
            ],
            "image/png": "[encoded data removed]"
          },
          "metadata": {}
        }
      ]
    },
    {
      "cell_type": "code",
      "execution_count": null,
      "metadata": {
        "colab": {
          "base_uri": "https://localhost:8080/"
        },
        "id": "izW5Krvl5b-z",
        "outputId": "39490195-e015-4ece-bd8c-6524ebd98bde"
      },
      "outputs": [
        {
          "output_type": "stream",
          "name": "stdout",
          "text": [
            "Epoch 1/5\n",
            "1875/1875 [==============================] - 4s 2ms/step - loss: 0.4690 - accuracy: 0.8776\n",
            "Epoch 2/5\n",
            "1875/1875 [==============================] - 4s 2ms/step - loss: 0.3037 - accuracy: 0.9148\n",
            "Epoch 3/5\n",
            "1875/1875 [==============================] - 4s 2ms/step - loss: 0.2832 - accuracy: 0.9202\n",
            "Epoch 4/5\n",
            "1875/1875 [==============================] - 4s 2ms/step - loss: 0.2732 - accuracy: 0.9238\n",
            "Epoch 5/5\n",
            "1875/1875 [==============================] - 4s 2ms/step - loss: 0.2671 - accuracy: 0.9255\n",
            "313/313 [==============================] - 1s 2ms/step - loss: 0.2671 - accuracy: 0.9262\n",
            "313/313 [==============================] - 0s 1ms/step\n",
            "\n",
            "\n",
            "[2.3677139e-06 9.7451532e-01 1.5904527e-02 3.2753730e-03 1.4791857e-04\n",
            " 6.4479222e-04 1.1823722e-03 8.6270762e-04 3.1533025e-03 3.1134384e-04]\n",
            "\n",
            "\n",
            " Predicted: 1\n",
            " y_test: 1\n"
          ]
        }
      ],
      "source": [
        "model = keras.Sequential([\n",
        "    keras.layers.Dense(10, input_shape=(784,), activation = 'softmax')\n",
        "])\n",
        "\n",
        "model.compile(\n",
        "    optimizer = 'adam',\n",
        "    loss = 'SparseCategoricalCrossentropy',\n",
        "    metrics = ['accuracy']\n",
        ")\n",
        "\n",
        "\n",
        "model.fit(X_train_scaled, y_train, epochs=5)\n",
        "\n",
        "model.evaluate(X_test_scaled, y_test)\n",
        "\n",
        "y_predicted = model.predict(X_test_scaled)\n",
        "print('\\n')\n",
        "print(y_predicted[2])\n",
        "print('\\n')\n",
        "print(f\" Predicted: {np.argmax(y_predicted[2])}\")\n",
        "print(f\" y_test: {y_test[2]}\")"
      ]
    },
    {
      "cell_type": "code",
      "source": [
        "# Count the occurrences of each digit in the test set\n",
        "digit_counts = np.bincount(y_test)\n",
        "print(f\" digit counts: {digit_counts}\")\n",
        "print('\\n')\n",
        "\n",
        "y_predicted_labels = [np.argmax(i) for i in y_predicted]\n",
        "cm = tf.math.confusion_matrix(labels=y_test, predictions=y_predicted_labels)\n",
        "print(f\" Confusion Matrix: \\n{cm}\")\n",
        "\n",
        "# the diagnals are correctly predicted\n",
        "# for example 5 is predicted correctly 226 times\n",
        "# Looking at row 0 in the matrix:\n",
        "  # the digit 0 is correctly predicted 975 out of 980 times; \n",
        "  # it predicted 0 as a 2 (2 times)\n",
        "  # 3 (1 time)\n",
        "  # 4 (2 times) \n",
        "  # --> sum of row 0 = 980\n",
        "\n",
        "print(\"\\n\")\n",
        "import seaborn as sn\n",
        "plt.figure(figsize=(10,7))\n",
        "sn.heatmap(cm, annot=True, fmt='d')\n",
        "plt.xlabel('Predicted')\n",
        "plt.ylabel('Truth')"
      ],
      "metadata": {
        "colab": {
          "base_uri": "https://localhost:8080/",
          "height": 914
        },
        "id": "skV1Wm4G7kIN",
        "outputId": "510f21ee-de63-47a2-ee17-df4e569e4e0d"
      },
      "execution_count": null,
      "outputs": [
        {
          "output_type": "stream",
          "name": "stdout",
          "text": [
            " digit counts: [ 980 1135 1032 1010  982  892  958 1028  974 1009]\n",
            "\n",
            "\n",
            " Confusion Matrix: \n",
            "[[ 962    0    2    2    0    5    6    2    1    0]\n",
            " [   0 1118    3    2    0    1    4    2    5    0]\n",
            " [   3    7  950   12    7    4   11    8   25    5]\n",
            " [   2    0   28  911    1   29    2    9   19    9]\n",
            " [   1    1    9    0  910    0   10    3    8   40]\n",
            " [  10    3    8   28   11  780   10    7   29    6]\n",
            " [  14    3   10    1    8   10  909    2    1    0]\n",
            " [   1    8   27    4   10    0    0  940    1   37]\n",
            " [   7   11   10   19    9   36    8   11  851   12]\n",
            " [  10    7    1   10   24    5    0   14    7  931]]\n",
            "\n",
            "\n"
          ]
        },
        {
          "output_type": "execute_result",
          "data": {
            "text/plain": [
              "Text(95.72222222222221, 0.5, 'Truth')"
            ]
          },
          "metadata": {},
          "execution_count": 244
        },
        {
          "output_type": "display_data",
          "data": {
            "text/plain": [
              "<Figure size 1000x700 with 2 Axes>"
            ],
            "image/png": "[encoded data removed]"
          },
          "metadata": {}
        }
      ]
    },
    {
      "cell_type": "markdown",
      "metadata": {
        "id": "GV3s4ITj3Wx3"
      },
      "source": [
        "- Let's adding another hidden layer"
      ]
    },
    {
      "cell_type": "code",
      "execution_count": null,
      "metadata": {
        "colab": {
          "base_uri": "https://localhost:8080/"
        },
        "id": "-KeMSCK53hqK",
        "outputId": "f51e9f1d-6c60-4fd1-a409-da485c6c36cc"
      },
      "outputs": [
        {
          "output_type": "stream",
          "name": "stdout",
          "text": [
            "Epoch 1/5\n",
            "1875/1875 [==============================] - 11s 6ms/step - loss: 0.2552 - accuracy: 0.9270 - val_loss: 0.1308 - val_accuracy: 0.9615\n",
            "Epoch 2/5\n",
            "1875/1875 [==============================] - 10s 5ms/step - loss: 0.1113 - accuracy: 0.9674 - val_loss: 0.0926 - val_accuracy: 0.9703\n",
            "Epoch 3/5\n",
            "1875/1875 [==============================] - 10s 5ms/step - loss: 0.0757 - accuracy: 0.9775 - val_loss: 0.0790 - val_accuracy: 0.9750\n",
            "Epoch 4/5\n",
            "1875/1875 [==============================] - 9s 5ms/step - loss: 0.0577 - accuracy: 0.9819 - val_loss: 0.0782 - val_accuracy: 0.9756\n",
            "Epoch 5/5\n",
            "1875/1875 [==============================] - 10s 5ms/step - loss: 0.0449 - accuracy: 0.9862 - val_loss: 0.0761 - val_accuracy: 0.9760\n",
            "313/313 [==============================] - 1s 2ms/step - loss: 0.0761 - accuracy: 0.9760\n",
            "Test loss: 0.07605841755867004, Test accuracy: 0.9760000109672546\n",
            "\n",
            "\n",
            "313/313 [==============================] - 1s 2ms/step\n",
            "\n",
            "\n",
            "[1.7835514e-04 9.9894553e-01 4.4198871e-02 9.8219365e-03 2.6784534e-02\n",
            " 7.9071755e-03 1.3870541e-02 1.1122604e-01 4.3471962e-02 8.4513624e-04]\n",
            "\n",
            "\n",
            " Predicted: 1\n",
            " y_test: 1\n"
          ]
        }
      ],
      "source": [
        "model = keras.Sequential([\n",
        "    keras.layers.Dense(128, input_shape=(784,), activation = 'relu'),\n",
        "    keras.layers.Dense(10, activation = 'sigmoid')\n",
        "])\n",
        "\n",
        "model.compile(\n",
        "    optimizer = 'adam',\n",
        "    loss = 'SparseCategoricalCrossentropy',\n",
        "    metrics = ['accuracy']\n",
        ")\n",
        "\n",
        "model.fit(X_train_scaled, y_train, epochs=5, batch_size=32, validation_data=(X_test_scaled, y_test))\n",
        "\n",
        "\n",
        "loss, accuracy = model.evaluate(X_test_scaled, y_test)\n",
        "print(f\"Test loss: {loss}, Test accuracy: {accuracy}\")\n",
        "print('\\n')\n",
        "\n",
        "y_predicted = model.predict(X_test_scaled)\n",
        "print('\\n')\n",
        "print(y_predicted[2])\n",
        "print('\\n')\n",
        "print(f\" Predicted: {np.argmax(y_predicted[2])}\")\n",
        "print(f\" y_test: {y_test[2]}\")"
      ]
    },
    {
      "cell_type": "code",
      "source": [
        "# Count the occurrences of each digit in the test set\n",
        "digit_counts = np.bincount(y_test)\n",
        "print(f\" digit counts: {digit_counts}\")\n",
        "print('\\n')\n",
        "\n",
        "y_predicted_labels = [np.argmax(i) for i in y_predicted]\n",
        "cm = tf.math.confusion_matrix(labels=y_test, predictions=y_predicted_labels)\n",
        "print(f\" Confusion Matrix: \\n{cm}\")\n",
        "\n",
        "# the diagnals are correctly predicted\n",
        "# for example 5 is predicted correctly 226 times\n",
        "# Looking at row 0 in the matrix:\n",
        "  # the digit 0 is correctly predicted 975 out of 980 times; \n",
        "  # it predicted 0 as a 2 (2 times)\n",
        "  # 3 (1 time)\n",
        "  # 4 (2 times) \n",
        "  # --> sum of row 0 = 980\n",
        "\n",
        "print(\"\\n\")\n",
        "import seaborn as sn\n",
        "plt.figure(figsize=(10,7))\n",
        "sn.heatmap(cm, annot=True, fmt='d')\n",
        "plt.xlabel('Predicted')\n",
        "plt.ylabel('Truth')"
      ],
      "metadata": {
        "colab": {
          "base_uri": "https://localhost:8080/",
          "height": 914
        },
        "id": "VPvxGNUj76ks",
        "outputId": "763502db-1962-4e99-d99c-3808418a2f71"
      },
      "execution_count": null,
      "outputs": [
        {
          "output_type": "stream",
          "name": "stdout",
          "text": [
            " digit counts: [ 980 1135 1032 1010  982  892  958 1028  974 1009]\n",
            "\n",
            "\n",
            " Confusion Matrix: \n",
            "[[ 968    0    1    1    1    0    4    1    2    2]\n",
            " [   0 1127    3    0    0    0    2    0    3    0]\n",
            " [   4    6 1003    5    3    0    2    5    4    0]\n",
            " [   0    2    6  988    0    2    0    4    3    5]\n",
            " [   0    0    2    0  957    0    6    1    1   15]\n",
            " [   4    0    0   11    2  866    6    1    1    1]\n",
            " [   3    3    0    1    4    3  944    0    0    0]\n",
            " [   0   10    9    7    1    0    0  993    0    8]\n",
            " [   4    1    3   11    6    4    7    4  930    4]\n",
            " [   1    6    0    7    7    1    0    3    0  984]]\n",
            "\n",
            "\n"
          ]
        },
        {
          "output_type": "execute_result",
          "data": {
            "text/plain": [
              "Text(95.72222222222221, 0.5, 'Truth')"
            ]
          },
          "metadata": {},
          "execution_count": 246
        },
        {
          "output_type": "display_data",
          "data": {
            "text/plain": [
              "<Figure size 1000x700 with 2 Axes>"
            ],
            "image/png": "[encoded data removed]"
          },
          "metadata": {}
        }
      ]
    },
    {
      "cell_type": "code",
      "execution_count": null,
      "metadata": {
        "colab": {
          "base_uri": "https://localhost:8080/"
        },
        "id": "bWVYRRo7dtbc",
        "outputId": "473f1e9e-8c56-4a45-b86e-5c3a02be8c84"
      },
      "outputs": [
        {
          "output_type": "stream",
          "name": "stdout",
          "text": [
            "Epoch 1/5\n",
            "1875/1875 [==============================] - 10s 5ms/step - loss: 0.2604 - accuracy: 0.9258 - val_loss: 0.1430 - val_accuracy: 0.9570\n",
            "Epoch 2/5\n",
            "1875/1875 [==============================] - 10s 5ms/step - loss: 0.1162 - accuracy: 0.9656 - val_loss: 0.1050 - val_accuracy: 0.9669\n",
            "Epoch 3/5\n",
            "1875/1875 [==============================] - 8s 4ms/step - loss: 0.0792 - accuracy: 0.9761 - val_loss: 0.0858 - val_accuracy: 0.9737\n",
            "Epoch 4/5\n",
            "1875/1875 [==============================] - 10s 5ms/step - loss: 0.0595 - accuracy: 0.9817 - val_loss: 0.0739 - val_accuracy: 0.9763\n",
            "Epoch 5/5\n",
            "1875/1875 [==============================] - 10s 5ms/step - loss: 0.0459 - accuracy: 0.9858 - val_loss: 0.0815 - val_accuracy: 0.9759\n",
            "313/313 [==============================] - 1s 2ms/step - loss: 0.0815 - accuracy: 0.9759\n",
            "Test loss: 0.0815468579530716, Test accuracy: 0.9758999943733215\n",
            "\n",
            "\n",
            "313/313 [==============================] - 1s 2ms/step\n",
            "\n",
            "\n",
            "[8.9512866e-07 9.9930763e-01 1.1281105e-04 2.0878893e-05 2.9354072e-05\n",
            " 4.5095421e-06 5.8590551e-05 1.5389106e-04 3.0970701e-04 1.7627145e-06]\n",
            "\n",
            "\n",
            " Predicted: 1\n",
            " y_test: 1\n"
          ]
        }
      ],
      "source": [
        "model = keras.Sequential([\n",
        "    keras.layers.Dense(128, input_shape=(784,), activation = 'relu'),\n",
        "    keras.layers.Dense(10, activation = 'softmax')\n",
        "])\n",
        "\n",
        "model.compile(\n",
        "    optimizer = 'adam',\n",
        "    loss = 'SparseCategoricalCrossentropy',\n",
        "    metrics = ['accuracy']\n",
        ")\n",
        "\n",
        "model.fit(X_train_scaled, y_train, epochs=5, batch_size=32, validation_data=(X_test_scaled, y_test))\n",
        "\n",
        "\n",
        "loss, accuracy = model.evaluate(X_test_scaled, y_test)\n",
        "print(f\"Test loss: {loss}, Test accuracy: {accuracy}\")\n",
        "print('\\n')\n",
        "\n",
        "y_predicted = model.predict(X_test_scaled)\n",
        "print('\\n')\n",
        "print(y_predicted[2])\n",
        "print('\\n')\n",
        "print(f\" Predicted: {np.argmax(y_predicted[2])}\")\n",
        "print(f\" y_test: {y_test[2]}\")"
      ]
    },
    {
      "cell_type": "code",
      "source": [
        "# Count the occurrences of each digit in the test set\n",
        "digit_counts = np.bincount(y_test)\n",
        "print(f\" digit counts: {digit_counts}\")\n",
        "print('\\n')\n",
        "\n",
        "y_predicted_labels = [np.argmax(i) for i in y_predicted]\n",
        "cm = tf.math.confusion_matrix(labels=y_test, predictions=y_predicted_labels)\n",
        "print(f\" Confusion Matrix: \\n{cm}\")\n",
        "\n",
        "# the diagnals are correctly predicted\n",
        "# for example 5 is predicted correctly 226 times\n",
        "# Looking at row 0 in the matrix:\n",
        "  # the digit 0 is correctly predicted 975 out of 980 times; \n",
        "  # it predicted 0 as a 2 (2 times)\n",
        "  # 3 (1 time)\n",
        "  # 4 (2 times) \n",
        "  # --> sum of row 0 = 980\n",
        "\n",
        "print(\"\\n\")\n",
        "import seaborn as sn\n",
        "plt.figure(figsize=(10,7))\n",
        "sn.heatmap(cm, annot=True, fmt='d')\n",
        "plt.xlabel('Predicted')\n",
        "plt.ylabel('Truth')"
      ],
      "metadata": {
        "colab": {
          "base_uri": "https://localhost:8080/",
          "height": 914
        },
        "id": "lb5Gh-io8tbr",
        "outputId": "46337f17-1711-4061-8625-e5e900b58e0d"
      },
      "execution_count": null,
      "outputs": [
        {
          "output_type": "stream",
          "name": "stdout",
          "text": [
            " digit counts: [ 980 1135 1032 1010  982  892  958 1028  974 1009]\n",
            "\n",
            "\n",
            " Confusion Matrix: \n",
            "[[ 971    0    1    1    1    1    2    1    1    1]\n",
            " [   0 1124    2    1    0    1    3    0    4    0]\n",
            " [   7    1 1008    1    2    0    2    2    9    0]\n",
            " [   0    0    1  999    0    1    0    5    4    0]\n",
            " [   1    0    7    1  963    1    4    1    1    3]\n",
            " [   3    0    0   21    1  856    3    1    5    2]\n",
            " [   6    3    2    1    5    3  935    0    3    0]\n",
            " [   1    5   10   13    2    0    0  989    4    4]\n",
            " [   0    0    4    5    5    1    1    3  951    4]\n",
            " [   2    5    0    9   15    4    0    5    6  963]]\n",
            "\n",
            "\n"
          ]
        },
        {
          "output_type": "execute_result",
          "data": {
            "text/plain": [
              "Text(95.72222222222221, 0.5, 'Truth')"
            ]
          },
          "metadata": {},
          "execution_count": 248
        },
        {
          "output_type": "display_data",
          "data": {
            "text/plain": [
              "<Figure size 1000x700 with 2 Axes>"
            ],
            "image/png": "[encoded data removed]"
          },
          "metadata": {}
        }
      ]
    },
    {
      "cell_type": "markdown",
      "metadata": {
        "id": "SK8-0GKa4gdU"
      },
      "source": [
        "### Analysis\n",
        "- Using X_train_flattened, X_test_flattened\n",
        "  - sigmoid --> accuracy: 0.8952\n",
        "  - softmax --> accuracy: 0.8854\n",
        "\n",
        "- Using X_train_scaled, X_test_scaled\n",
        "  - sigmoid --> accuracy: 0.9251\n",
        "  - softmax --> accuracy: 0.9245\n",
        "\n",
        "- Using an additional hidden layers\n",
        "  - sigmoid --> accuracy: 0.9945\n",
        "  - softmax --> accuracy: 0.9763\n",
        "\n",
        "### Next\n",
        "  - We one-hot encode the labels using the to_categorical function from Keras This function converts a class vector (integers) to a binary class matrix (one-hot encoding)."
      ]
    },
    {
      "cell_type": "code",
      "execution_count": null,
      "metadata": {
        "id": "80bC40sKJuLN",
        "colab": {
          "base_uri": "https://localhost:8080/"
        },
        "outputId": "44dadec7-ecab-46f2-d737-8ac66626abd6"
      },
      "outputs": [
        {
          "output_type": "stream",
          "name": "stdout",
          "text": [
            " Before categorical 5\n",
            "\n",
            "\n",
            " After categorical [0. 0. 0. 0. 0. 1. 0. 0. 0. 0.]\n",
            "\n",
            "\n"
          ]
        }
      ],
      "source": [
        "print(f\" Before categorical {y_train[0]}\")\n",
        "print(\"\\n\")\n",
        "y_train = to_categorical(y_train, num_classes = 10)\n",
        "y_test = to_categorical(y_test, num_classes = 10)\n",
        "print(f\" After categorical {y_train[0]}\")\n",
        "print(\"\\n\")"
      ]
    },
    {
      "cell_type": "code",
      "source": [
        "print(X_train_scaled.shape)\n",
        "print(y_train.shape)\n",
        "print(X_test_scaled.shape)\n",
        "print(y_test.shape)"
      ],
      "metadata": {
        "colab": {
          "base_uri": "https://localhost:8080/"
        },
        "id": "-lLL59_9D7Y5",
        "outputId": "32e64ad4-91a6-4cab-962a-7964a1388eb1"
      },
      "execution_count": null,
      "outputs": [
        {
          "output_type": "stream",
          "name": "stdout",
          "text": [
            "(60000, 784)\n",
            "(60000, 10)\n",
            "(10000, 784)\n",
            "(10000, 10)\n"
          ]
        }
      ]
    },
    {
      "cell_type": "code",
      "execution_count": null,
      "metadata": {
        "id": "zfRBws2fJ4rF",
        "colab": {
          "base_uri": "https://localhost:8080/"
        },
        "outputId": "44f86c73-9874-44e7-b496-dc3a69eb53ce"
      },
      "outputs": [
        {
          "output_type": "stream",
          "name": "stdout",
          "text": [
            "Epoch 1/10\n",
            "1875/1875 [==============================] - 11s 6ms/step - loss: 0.2590 - accuracy: 0.9270 - val_loss: 0.1502 - val_accuracy: 0.9546\n",
            "Epoch 2/10\n",
            "1875/1875 [==============================] - 9s 5ms/step - loss: 0.1136 - accuracy: 0.9663 - val_loss: 0.1028 - val_accuracy: 0.9685\n",
            "Epoch 3/10\n",
            "1875/1875 [==============================] - 9s 5ms/step - loss: 0.0805 - accuracy: 0.9765 - val_loss: 0.0913 - val_accuracy: 0.9726\n",
            "Epoch 4/10\n",
            "1875/1875 [==============================] - 11s 6ms/step - loss: 0.0588 - accuracy: 0.9823 - val_loss: 0.0828 - val_accuracy: 0.9748\n",
            "Epoch 5/10\n",
            "1875/1875 [==============================] - 10s 5ms/step - loss: 0.0458 - accuracy: 0.9856 - val_loss: 0.0767 - val_accuracy: 0.9772\n",
            "Epoch 6/10\n",
            "1875/1875 [==============================] - 8s 4ms/step - loss: 0.0363 - accuracy: 0.9886 - val_loss: 0.0799 - val_accuracy: 0.9767\n",
            "Epoch 7/10\n",
            "1875/1875 [==============================] - 10s 5ms/step - loss: 0.0283 - accuracy: 0.9915 - val_loss: 0.0824 - val_accuracy: 0.9762\n",
            "Epoch 8/10\n",
            "1875/1875 [==============================] - 10s 5ms/step - loss: 0.0234 - accuracy: 0.9928 - val_loss: 0.0810 - val_accuracy: 0.9764\n",
            "Epoch 9/10\n",
            "1875/1875 [==============================] - 11s 6ms/step - loss: 0.0186 - accuracy: 0.9943 - val_loss: 0.0786 - val_accuracy: 0.9787\n",
            "Epoch 10/10\n",
            "1875/1875 [==============================] - 9s 5ms/step - loss: 0.0170 - accuracy: 0.9949 - val_loss: 0.0859 - val_accuracy: 0.9775\n",
            "313/313 [==============================] - 1s 2ms/step - loss: 0.0859 - accuracy: 0.9775\n",
            "Test loss: 0.0858820229768753, Test accuracy: 0.9775000214576721\n"
          ]
        }
      ],
      "source": [
        "model = Sequential([\n",
        "    Dense(128, input_shape=(784,), activation='relu'),\n",
        "    Dense(10, activation='softmax')\n",
        "])\n",
        "\n",
        "# Compile the model\n",
        "model.compile(optimizer='adam', loss='categorical_crossentropy', metrics=['accuracy'])\n",
        "\n",
        "# Train the model\n",
        "model.fit(X_train_scaled, y_train, epochs=10, batch_size=32, validation_data=(X_test_scaled, y_test))\n",
        "\n",
        "# Evaluate the model\n",
        "loss, accuracy = model.evaluate(X_test_scaled, y_test)\n",
        "print(f\"Test loss: {loss}, Test accuracy: {accuracy}\")"
      ]
    },
    {
      "cell_type": "markdown",
      "source": [
        "- Count the occurrences of each digit in the test set\n",
        "  - digit_counts = np.bincount(y_test)\n",
        "  - print(f\" digit counts: {digit_counts}\")\n",
        "  - print('\\n')\n",
        "\n",
        "- y_predicted_labels = [np.argmax(i) for i in y_predicted]\n",
        "- cm = tf.math.confusion_matrix(labels=y_test, predictions=y_predicted_labels)\n",
        "- print(f\" Confusion Matrix: \\n{cm}\")\n",
        "\n",
        "- print(\"\\n\")\n",
        "- import seaborn as sn\n",
        "- plt.figure(figsize=(10,7))\n",
        "- sn.heatmap(cm, annot=True, fmt='d')\n",
        "- plt.xlabel('Predicted')\n",
        "- plt.ylabel('Truth')"
      ],
      "metadata": {
        "id": "TL3hvb7UK4mI"
      }
    },
    {
      "cell_type": "code",
      "source": [
        "X_test_flattened.shape[1]"
      ],
      "metadata": {
        "colab": {
          "base_uri": "https://localhost:8080/"
        },
        "id": "KXiVRcKcEfjE",
        "outputId": "30c39939-8e13-4176-9777-a59a7fb06a1b"
      },
      "execution_count": null,
      "outputs": [
        {
          "output_type": "execute_result",
          "data": {
            "text/plain": [
              "784"
            ]
          },
          "metadata": {},
          "execution_count": 252
        }
      ]
    },
    {
      "cell_type": "markdown",
      "source": [
        "Conv2D(32, kernel_size=(3, 3), activation='relu', input_shape=(28, 28, 1)): \n",
        "- This is the first 2D convolutional layer with 32 filters, each with a kernel size of 3x3. The activation function used is the ReLU (Rectified Linear Unit) function. The input_shape=(28, 28, 1) parameter indicates that this is the first layer in the model and that it should expect input images with a shape of 28x28x1 (grayscale images).\n",
        "\n",
        "MaxPooling2D(pool_size=(2, 2)): \n",
        "- This is the first max pooling layer, which helps to reduce the spatial dimensions of the input feature maps. The pool_size=(2, 2) parameter indicates the size of the pooling window, which moves across the input feature maps, taking the maximum value in each window.\n",
        "\n",
        "Conv2D(64, kernel_size=(3, 3), activation='relu'): \n",
        "- This is the second 2D convolutional layer with 64 filters, each with a kernel size of 3x3. The activation function used is the ReLU function. This layer helps to further extract features from the input data.\n",
        "\n",
        "MaxPooling2D(pool_size=(2, 2)): \n",
        "- This is the second max pooling layer, which further reduces the spatial dimensions of the input feature maps using the same pooling window size as before (2x2).\n",
        "\n",
        "Flatten(): \n",
        "- This layer is used to flatten the 2D feature maps from the previous layer into a 1D vector. This is necessary because the fully connected (dense) layers that follow expect input data in a 1D format.\n",
        "\n",
        "Dense(128, activation='relu'): \n",
        "- This is a dense (fully connected) layer with 128 neurons and a ReLU activation function. It helps to learn non-linear combinations of the features extracted by the convolutional layers.\n",
        "\n",
        "Dropout(0.5): \n",
        "- This layer applies dropout regularization with a rate of 0.5 (50%). During training, it randomly sets 50% of the input units to 0 at each update, which helps to prevent overfitting by reducing the model's reliance on any single neuron.\n",
        "\n",
        "Dense(10, activation='softmax'): \n",
        "- This is the output layer of the model, which is a dense (fully connected) layer with 10 neurons. The softmax activation function is used to produce probability-like values that sum up to 1 for each of the 10 possible digits (0-9). The model's final prediction will be the digit corresponding to the neuron with the highest probability value.\n",
        "\n",
        "The combination of these layers helps the CNN to learn hierarchical features from the input images and ultimately classify them into one of the 10 possible digits.\n",
        "\n",
        "\n",
        "Pooling layers, such as MaxPooling, serve several purposes in a convolutional neural network (CNN):\n",
        "- Dimensionality Reduction: Pooling layers help to reduce the spatial dimensions (width and height) of the input feature maps, which can reduce the number of parameters in the network, and thus the computational cost during training and inference. By reducing the dimensions, the network can focus on the most important features and ignore less important details.\n",
        "\n",
        "- Translation Invariance: Pooling layers introduce a degree of translation invariance, meaning that the network can still recognize patterns even if they are slightly shifted or translated in the input image. This is achieved by taking the maximum (in case of MaxPooling) or average (in case of Average Pooling) value within a certain window (pooling window) as the output for that region. This output is less sensitive to small translations, as it considers the most important feature within the window.\n",
        "\n",
        "- Feature Aggregation: Pooling layers help to aggregate local information in the feature maps. By taking the maximum or average value within a window, the pooling layer effectively combines information from neighboring regions. This can lead to more robust features that are less sensitive to local changes in the input image.\n",
        "\n",
        "- Preventing Overfitting: By reducing the spatial dimensions of the feature maps, pooling layers can also help to prevent overfitting. By having fewer parameters, the model is less likely to overfit to the training data, and it is forced to learn more general and robust features that can generalize well to unseen data.\n",
        "\n",
        "In summary, MaxPooling and other pooling layers play a crucial role in CNNs by reducing the spatial dimensions of the input feature maps, introducing translation invariance, aggregating local information, and helping to prevent overfitting."
      ],
      "metadata": {
        "id": "_dgQCDO-GKkc"
      }
    },
    {
      "cell_type": "code",
      "source": [
        "from keras.layers import Conv2D, MaxPooling2D, Flatten, Dense, Dropout"
      ],
      "metadata": {
        "id": "Tm4m3UNkca7M"
      },
      "execution_count": null,
      "outputs": []
    },
    {
      "cell_type": "code",
      "source": [
        "# Create the CNN model\n",
        "model = Sequential([\n",
        "    Conv2D(32, kernel_size=(3, 3), activation='relu', input_shape=(28, 28, 1)),\n",
        "    MaxPooling2D(pool_size=(2, 2)),\n",
        "    Conv2D(64, kernel_size=(3, 3), activation='relu'),\n",
        "    MaxPooling2D(pool_size=(2, 2)),\n",
        "    Flatten(),\n",
        "    Dense(128, activation='relu'),\n",
        "    Dropout(0.5),\n",
        "    Dense(10, activation='softmax')\n",
        "])\n",
        "\n",
        "X_train_scaled = X_train_scaled.reshape(-1, 28, 28, 1)\n",
        "X_test_scaled = X_test_scaled.reshape(-1, 28, 28, 1)\n",
        "\n",
        "# Compile the model\n",
        "model.compile(optimizer='adam', loss='categorical_crossentropy', metrics=['accuracy'])\n",
        "\n",
        "# Train the model\n",
        "model.fit(X_train_scaled, y_train, batch_size=128, epochs=5, verbose=1, validation_data=(X_test_scaled, y_test))\n",
        "\n",
        "# Evaluate the model\n",
        "loss, accuracy = model.evaluate(X_test_scaled, y_test, verbose=0)\n",
        "print(f\"Test loss: {loss}, Test accuracy: {accuracy}\")"
      ],
      "metadata": {
        "colab": {
          "base_uri": "https://localhost:8080/"
        },
        "id": "Ug8-NsoCcejk",
        "outputId": "3256cb79-602c-4d4a-fd8f-48430e544555"
      },
      "execution_count": null,
      "outputs": [
        {
          "output_type": "stream",
          "name": "stdout",
          "text": [
            "Epoch 1/5\n",
            "469/469 [==============================] - 63s 131ms/step - loss: 0.3267 - accuracy: 0.9039 - val_loss: 0.0649 - val_accuracy: 0.9790\n",
            "Epoch 2/5\n",
            "469/469 [==============================] - 61s 129ms/step - loss: 0.1005 - accuracy: 0.9703 - val_loss: 0.0417 - val_accuracy: 0.9861\n",
            "Epoch 3/5\n",
            "469/469 [==============================] - 60s 127ms/step - loss: 0.0737 - accuracy: 0.9780 - val_loss: 0.0335 - val_accuracy: 0.9880\n",
            "Epoch 4/5\n",
            "469/469 [==============================] - 58s 125ms/step - loss: 0.0617 - accuracy: 0.9816 - val_loss: 0.0322 - val_accuracy: 0.9880\n",
            "Epoch 5/5\n",
            "469/469 [==============================] - 61s 129ms/step - loss: 0.0525 - accuracy: 0.9840 - val_loss: 0.0322 - val_accuracy: 0.9892\n",
            "Test loss: 0.03217901289463043, Test accuracy: 0.9891999959945679\n"
          ]
        }
      ]
    },
    {
      "cell_type": "markdown",
      "source": [
        "While Recurrent Neural Networks (RNNs) are designed primarily for sequence data, it is possible to use them for image classification tasks, such as the MNIST digit recognition problem. However, RNNs are not the most natural choice for image data, and their performance might not be as good as that of a Convolutional Neural Network (CNN) for this task.\n",
        "\n",
        "To use an RNN for image classification, we can treat each row (or column) of the image as a sequence and feed it into the RNN.\n",
        "\n",
        "In this example using Keras with the Long Short-Term Memory (LSTM) layer, which is a type of RNN layer:we preprocess the data similarly to the CNN example, but we do not reshape the images into a 1D vector, as we want to treat each row of the image as a sequence.\n",
        "\n",
        "We use two LSTM layers in the RNN model, with the first LSTM layer having 128 hidden units and the second one having 64 hidden units.\n",
        "\n",
        "The return_sequences=True parameter in the first LSTM layer ensures that it passes the output for each time step to the next LSTM layer, preserving the sequence structure.\n",
        "\n",
        "Finally, a Dense layer with 10 neurons and a softmax activation function is used for multi-class classification.\n",
        "\n",
        "While an RNN with LSTM layers can be used for image classification tasks, it is generally not as effective as a CNN for this type of problem. RNNs are better suited for sequence data, while CNNs are designed specifically to handle spatial patterns in images."
      ],
      "metadata": {
        "id": "3SIKN_9zcqCk"
      }
    },
    {
      "cell_type": "code",
      "source": [
        "from keras.layers import LSTM, Dense\n",
        "# Create the RNN model\n",
        "model = Sequential([\n",
        "    LSTM(128, input_shape=(28, 28), return_sequences=True),\n",
        "    LSTM(64),\n",
        "    Dense(10, activation='softmax')\n",
        "])\n",
        "\n",
        "# Compile the model\n",
        "model.compile(optimizer='adam', loss='categorical_crossentropy', metrics=['accuracy'])\n",
        "\n",
        "# Train the model\n",
        "model.fit(X_train_scaled, y_train, batch_size=128, epochs=10, verbose=1, validation_data=(X_test_scaled, y_test))\n",
        "\n",
        "# Evaluate the model\n",
        "loss, accuracy = model.evaluate(X_test_scaled, y_test, verbose=0)\n",
        "print(f\"Test loss: {loss}, Test accuracy: {accuracy}\")"
      ],
      "metadata": {
        "colab": {
          "base_uri": "https://localhost:8080/"
        },
        "id": "WDan4nKsqEng",
        "outputId": "0cded7e7-4e32-4c2e-aeec-3c864be5313c"
      },
      "execution_count": null,
      "outputs": [
        {
          "output_type": "stream",
          "name": "stdout",
          "text": [
            "Epoch 1/10\n",
            "469/469 [==============================] - 96s 193ms/step - loss: 0.5096 - accuracy: 0.8331 - val_loss: 0.1746 - val_accuracy: 0.9453\n",
            "Epoch 2/10\n",
            "469/469 [==============================] - 95s 203ms/step - loss: 0.1358 - accuracy: 0.9596 - val_loss: 0.1145 - val_accuracy: 0.9645\n",
            "Epoch 3/10\n",
            "469/469 [==============================] - 91s 194ms/step - loss: 0.0931 - accuracy: 0.9721 - val_loss: 0.0697 - val_accuracy: 0.9795\n",
            "Epoch 4/10\n",
            "469/469 [==============================] - 88s 188ms/step - loss: 0.0684 - accuracy: 0.9795 - val_loss: 0.0632 - val_accuracy: 0.9810\n",
            "Epoch 5/10\n",
            "469/469 [==============================] - 86s 183ms/step - loss: 0.0564 - accuracy: 0.9831 - val_loss: 0.0526 - val_accuracy: 0.9845\n",
            "Epoch 6/10\n",
            "469/469 [==============================] - 90s 192ms/step - loss: 0.0478 - accuracy: 0.9851 - val_loss: 0.0523 - val_accuracy: 0.9845\n",
            "Epoch 7/10\n",
            "469/469 [==============================] - 95s 202ms/step - loss: 0.0381 - accuracy: 0.9882 - val_loss: 0.0525 - val_accuracy: 0.9847\n",
            "Epoch 8/10\n",
            "469/469 [==============================] - 84s 178ms/step - loss: 0.0342 - accuracy: 0.9897 - val_loss: 0.0450 - val_accuracy: 0.9866\n",
            "Epoch 9/10\n",
            "469/469 [==============================] - 84s 180ms/step - loss: 0.0288 - accuracy: 0.9910 - val_loss: 0.0461 - val_accuracy: 0.9866\n",
            "Epoch 10/10\n",
            "469/469 [==============================] - 87s 186ms/step - loss: 0.0243 - accuracy: 0.9925 - val_loss: 0.0498 - val_accuracy: 0.9850\n",
            "Test loss: 0.049770381301641464, Test accuracy: 0.9850000143051147\n"
          ]
        }
      ]
    },
    {
      "cell_type": "code",
      "source": [],
      "metadata": {
        "id": "oyI0He3eqUNF"
      },
      "execution_count": null,
      "outputs": []
    }
  ],
  "metadata": {
    "colab": {
      "provenance": []
    },
    "kernelspec": {
      "display_name": "Python 3",
      "name": "python3"
    },
    "language_info": {
      "name": "python"
    }
  },
  "nbformat": 4,
  "nbformat_minor": 0
}