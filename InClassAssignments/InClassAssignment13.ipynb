{
 "cells": [
  {
   "cell_type": "code",
   "execution_count": 27,
   "metadata": {},
   "outputs": [],
   "source": [
    "import copy, math\n",
    "import os\n",
    "import numpy as np\n",
    "import pandas as pd\n",
    "import matplotlib.pyplot as plt\n",
    "import seaborn as sns \n",
    "%matplotlib inline\n",
    "os.getcwd()\n",
    "os.chdir('d:/gitrepos/CS4375.501/Data')"
   ]
  },
  {
   "cell_type": "code",
   "execution_count": 28,
   "metadata": {},
   "outputs": [],
   "source": [
    "#Transition Probabilities\n",
    "p_sun_sun = .8\n",
    "p_sun_rain = .2\n",
    "p_rain_sun = .4\n",
    "p_rain_rain = .6\n",
    "\n",
    "# Initial PRob\n",
    "p_sunny = .67\n",
    "p_rainy = .33\n",
    "\n",
    "# Emission Prob.\n",
    "p_sun_yes = .8\n",
    "p_sun_no = .2\n",
    "p_rain_yes = .4\n",
    "p_rain_no = .6"
   ]
  },
  {
   "cell_type": "code",
   "execution_count": 29,
   "metadata": {},
   "outputs": [],
   "source": [
    "#Given Observations\n",
    "played_golf = ['Y', 'Y', 'N', 'N', 'N', 'Y']"
   ]
  },
  {
   "cell_type": "code",
   "execution_count": 30,
   "metadata": {},
   "outputs": [
    {
     "name": "stdout",
     "output_type": "stream",
     "text": [
      "[0.536, 0.132]\n",
      "[0.536, 0.132]\n"
     ]
    }
   ],
   "source": [
    "prob = []\n",
    "weather = []\n",
    "if played_golf[0] == 'Y':\n",
    "  prob.append([p_sunny*p_sun_yes, p_rainy*p_rain_yes])\n",
    "else:\n",
    "  prob.append([p_sunny*p_sun_no, p_rainy*p_rain_no])\n",
    "\n",
    "print(prob[0])\n",
    "print(prob[-1])"
   ]
  },
  {
   "cell_type": "code",
   "execution_count": 31,
   "metadata": {},
   "outputs": [
    {
     "data": {
      "text/plain": [
       "['S', 'S', 'S', 'R', 'R', 'S']"
      ]
     },
     "execution_count": 31,
     "metadata": {},
     "output_type": "execute_result"
    }
   ],
   "source": [
    "for i in range(1, len(played_golf)):\n",
    "    yest_sunny, yest_rain = prob[-1]\n",
    "    if played_golf[i] == 'Y':\n",
    "      today_sunny = max(yest_sunny*p_sun_sun*p_sun_yes, yest_rain*p_rain_sun*p_sun_yes)\n",
    "      today_rainy = max(yest_sunny*p_sun_rain*p_rain_yes, yest_rain*p_rain_rain*p_rain_yes)\n",
    "      prob.append((today_sunny,today_rainy))\n",
    "    else:\n",
    "      today_sunny = max(yest_sunny*p_sun_sun*p_sun_no, yest_rain*p_rain_sun*p_sun_no)\n",
    "      today_rainy = max(yest_sunny*p_sun_rain*p_rain_no, yest_rain*p_rain_rain*p_rain_no)\n",
    "      prob.append((today_sunny,today_rainy))\n",
    "\n",
    "for p in prob:\n",
    "  if p[0] > p[1]:\n",
    "    weather.append('S')\n",
    "  else:\n",
    "    weather.append('R')\n",
    "    \n",
    "weather"
   ]
  },
  {
   "cell_type": "code",
   "execution_count": null,
   "metadata": {},
   "outputs": [],
   "source": [
    "# Change to matrix\n",
    "# transition = np.array([[.8, .2], [.4, .6]])\n",
    "# emission = np.array([[0.8,.2],[.4, .6]])"
   ]
  }
 ],
 "metadata": {
  "kernelspec": {
   "display_name": "Python 3",
   "language": "python",
   "name": "python3"
  },
  "language_info": {
   "codemirror_mode": {
    "name": "ipython",
    "version": 3
   },
   "file_extension": ".py",
   "mimetype": "text/x-python",
   "name": "python",
   "nbconvert_exporter": "python",
   "pygments_lexer": "ipython3",
   "version": "3.10.10"
  },
  "orig_nbformat": 4
 },
 "nbformat": 4,
 "nbformat_minor": 2
}
